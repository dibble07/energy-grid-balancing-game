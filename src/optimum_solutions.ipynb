{
 "cells": [
  {
   "cell_type": "markdown",
   "metadata": {},
   "source": [
    "# Optimisation solutions\n",
    "The optimum solution for each week differs. To improve converge quality and speed, the optimum for each week shall be calculated and stored"
   ]
  },
  {
   "cell_type": "code",
   "execution_count": 1,
   "metadata": {},
   "outputs": [],
   "source": [
    "# imports\n",
    "import json\n",
    "import os\n",
    "import time\n",
    "import warnings\n",
    "from cProfile import Profile\n",
    "from pstats import SortKey, Stats\n",
    "\n",
    "import matplotlib.pyplot as plt\n",
    "import pandas as pd\n",
    "import seaborn as sns\n",
    "from tqdm.notebook import tqdm\n",
    "\n",
    "from src.grid import Grid\n",
    "from src.generators import (\n",
    "    SolarGenerator,\n",
    "    WindGenerator,\n",
    "    NuclearGenerator,\n",
    "    CoalGenerator,\n",
    "    GasGenerator,\n",
    ")\n",
    "from src.utils import WEEK_MAP"
   ]
  },
  {
   "cell_type": "code",
   "execution_count": 2,
   "metadata": {},
   "outputs": [
    {
     "data": {
      "application/vnd.jupyter.widget-view+json": {
       "model_id": "7f037635a0e14de0bfc256e4a1789149",
       "version_major": 2,
       "version_minor": 0
      },
      "text/plain": [
       "  0%|          | 0/52 [00:00<?, ?it/s]"
      ]
     },
     "metadata": {},
     "output_type": "display_data"
    },
    {
     "name": "stdout",
     "output_type": "stream",
     "text": [
      "1\n"
     ]
    },
    {
     "name": "stderr",
     "output_type": "stream",
     "text": [
      "/Users/RDIB/Documents/GitHub/energy-grid-balancing-game/src/grid.py:136: UserWarning: Optimiser failed with method: SLSQP and init values: optimal\n",
      "  warnings.warn(\n"
     ]
    },
    {
     "name": "stdout",
     "output_type": "stream",
     "text": [
      "2\n",
      "3\n",
      "4\n",
      "5\n",
      "6\n",
      "7\n",
      "8\n"
     ]
    },
    {
     "name": "stderr",
     "output_type": "stream",
     "text": [
      "/Users/RDIB/Documents/GitHub/energy-grid-balancing-game/src/grid.py:136: UserWarning: Optimiser failed with method: SLSQP and init values: optimal\n",
      "  warnings.warn(\n"
     ]
    },
    {
     "name": "stdout",
     "output_type": "stream",
     "text": [
      "9\n",
      "10\n",
      "11\n",
      "12\n"
     ]
    },
    {
     "name": "stderr",
     "output_type": "stream",
     "text": [
      "/Users/RDIB/Documents/GitHub/energy-grid-balancing-game/src/grid.py:136: UserWarning: Optimiser failed with method: SLSQP and init values: optimal\n",
      "  warnings.warn(\n",
      "/Users/RDIB/Documents/GitHub/energy-grid-balancing-game/src/grid.py:136: UserWarning: Optimiser failed with method: COBYLA and init values: optimal\n",
      "  warnings.warn(\n",
      "/Users/RDIB/Documents/GitHub/energy-grid-balancing-game/src/grid.py:136: UserWarning: Optimiser failed with method: SLSQP and init values: conservative\n",
      "  warnings.warn(\n"
     ]
    },
    {
     "name": "stdout",
     "output_type": "stream",
     "text": [
      "13\n"
     ]
    },
    {
     "name": "stderr",
     "output_type": "stream",
     "text": [
      "/Users/RDIB/Documents/GitHub/energy-grid-balancing-game/src/grid.py:136: UserWarning: Optimiser failed with method: SLSQP and init values: optimal\n",
      "  warnings.warn(\n"
     ]
    },
    {
     "name": "stdout",
     "output_type": "stream",
     "text": [
      "14\n",
      "15\n"
     ]
    },
    {
     "name": "stderr",
     "output_type": "stream",
     "text": [
      "/Users/RDIB/Documents/GitHub/energy-grid-balancing-game/src/grid.py:136: UserWarning: Optimiser failed with method: SLSQP and init values: optimal\n",
      "  warnings.warn(\n"
     ]
    },
    {
     "name": "stdout",
     "output_type": "stream",
     "text": [
      "16\n",
      "17\n",
      "18\n"
     ]
    },
    {
     "name": "stderr",
     "output_type": "stream",
     "text": [
      "/Users/RDIB/Documents/GitHub/energy-grid-balancing-game/src/grid.py:136: UserWarning: Optimiser failed with method: SLSQP and init values: optimal\n",
      "  warnings.warn(\n"
     ]
    },
    {
     "name": "stdout",
     "output_type": "stream",
     "text": [
      "19\n",
      "20\n",
      "21\n",
      "22\n",
      "23\n"
     ]
    },
    {
     "name": "stderr",
     "output_type": "stream",
     "text": [
      "/Users/RDIB/Documents/GitHub/energy-grid-balancing-game/src/grid.py:136: UserWarning: Optimiser failed with method: SLSQP and init values: optimal\n",
      "  warnings.warn(\n"
     ]
    },
    {
     "name": "stdout",
     "output_type": "stream",
     "text": [
      "24\n",
      "25\n",
      "26\n",
      "27\n"
     ]
    },
    {
     "name": "stderr",
     "output_type": "stream",
     "text": [
      "/Users/RDIB/Documents/GitHub/energy-grid-balancing-game/src/grid.py:136: UserWarning: Optimiser failed with method: SLSQP and init values: optimal\n",
      "  warnings.warn(\n"
     ]
    },
    {
     "name": "stdout",
     "output_type": "stream",
     "text": [
      "28\n",
      "29\n"
     ]
    },
    {
     "name": "stderr",
     "output_type": "stream",
     "text": [
      "/Users/RDIB/Documents/GitHub/energy-grid-balancing-game/src/grid.py:136: UserWarning: Optimiser failed with method: SLSQP and init values: optimal\n",
      "  warnings.warn(\n"
     ]
    },
    {
     "name": "stdout",
     "output_type": "stream",
     "text": [
      "30\n"
     ]
    },
    {
     "name": "stderr",
     "output_type": "stream",
     "text": [
      "/Users/RDIB/Documents/GitHub/energy-grid-balancing-game/src/grid.py:136: UserWarning: Optimiser failed with method: SLSQP and init values: optimal\n",
      "  warnings.warn(\n"
     ]
    },
    {
     "name": "stdout",
     "output_type": "stream",
     "text": [
      "31\n"
     ]
    },
    {
     "name": "stderr",
     "output_type": "stream",
     "text": [
      "/Users/RDIB/Documents/GitHub/energy-grid-balancing-game/src/grid.py:136: UserWarning: Optimiser failed with method: SLSQP and init values: optimal\n",
      "  warnings.warn(\n"
     ]
    },
    {
     "name": "stdout",
     "output_type": "stream",
     "text": [
      "32\n",
      "33\n",
      "34\n",
      "35\n",
      "36\n"
     ]
    },
    {
     "name": "stderr",
     "output_type": "stream",
     "text": [
      "/Users/RDIB/Documents/GitHub/energy-grid-balancing-game/src/grid.py:136: UserWarning: Optimiser failed with method: SLSQP and init values: optimal\n",
      "  warnings.warn(\n"
     ]
    },
    {
     "name": "stdout",
     "output_type": "stream",
     "text": [
      "37\n",
      "38\n",
      "39\n",
      "40\n",
      "41\n",
      "42\n",
      "43\n",
      "44\n",
      "45\n",
      "46\n",
      "47\n",
      "48\n",
      "49\n",
      "50\n",
      "51\n"
     ]
    },
    {
     "name": "stderr",
     "output_type": "stream",
     "text": [
      "/Users/RDIB/Documents/GitHub/energy-grid-balancing-game/src/grid.py:136: UserWarning: Optimiser failed with method: SLSQP and init values: optimal\n",
      "  warnings.warn(\n"
     ]
    },
    {
     "name": "stdout",
     "output_type": "stream",
     "text": [
      "52\n"
     ]
    }
   ],
   "source": [
    "profile = Profile()\n",
    "profile.enable()\n",
    "\n",
    "# initialise dictionary of optimum initialisations\n",
    "opt_init_weekly = {}\n",
    "\n",
    "# loop over each week\n",
    "for week in tqdm(WEEK_MAP[\"week\"]):\n",
    "    print(week)\n",
    "    # initialise grid for current week\n",
    "    grid = Grid(\n",
    "        generators={\n",
    "            \"solar\": SolarGenerator,\n",
    "            \"wind\": WindGenerator,\n",
    "            \"nuclear\": NuclearGenerator,\n",
    "            \"gas\": GasGenerator,\n",
    "            \"coal\": CoalGenerator,\n",
    "        },\n",
    "        week=week,\n",
    "    )\n",
    "\n",
    "    # save successul optimisations and print unsuccessful ones\n",
    "    if grid.optimum is not None:\n",
    "        opt_init_weekly[int(week)] = {\n",
    "            **{\n",
    "                k: v / grid.demand.max()\n",
    "                for k, v in grid.optimum[\"installed_capacity\"].items()\n",
    "            },\n",
    "            **{\"score\": grid.optimum[\"score\"]},\n",
    "        }\n",
    "    else:\n",
    "        warnings.warn(f\"No optimum found\")\n",
    "\n",
    "profile.disable()"
   ]
  },
  {
   "cell_type": "code",
   "execution_count": 3,
   "metadata": {},
   "outputs": [
    {
     "name": "stdout",
     "output_type": "stream",
     "text": [
      "         943104758 function calls (934672201 primitive calls) in 726.527 seconds\n",
      "\n",
      "   Ordered by: internal time\n",
      "   List reduced from 1444 to 43 due to restriction <0.03>\n",
      "\n",
      "   ncalls  tottime  percall  cumtime  percall filename:lineno(function)\n",
      " 97831160   51.217    0.000   59.049    0.000 /Users/RDIB/Documents/GitHub/energy-grid-balancing-game/env/lib/python3.11/site-packages/pandas/core/dtypes/cast.py:154(maybe_box_datetimelike)\n",
      "   662120   48.160    0.000   49.659    0.000 {pandas._libs.lib.fast_multiget}\n",
      "   182096   41.235    0.000   71.635    0.000 /Users/RDIB/Documents/GitHub/energy-grid-balancing-game/env/lib/python3.11/site-packages/numpy/lib/function_base.py:1324(diff)\n",
      "   579355   33.954    0.000   93.002    0.000 /Users/RDIB/Documents/GitHub/energy-grid-balancing-game/env/lib/python3.11/site-packages/pandas/core/dtypes/cast.py:875(<dictcomp>)\n",
      "   629183   33.555    0.000   34.065    0.000 /Users/RDIB/Documents/GitHub/energy-grid-balancing-game/env/lib/python3.11/site-packages/pandas/core/dtypes/cast.py:1544(construct_1d_object_array_from_listlike)\n",
      " 27951813   32.432    0.000   32.432    0.000 /Users/RDIB/Documents/GitHub/energy-grid-balancing-game/env/lib/python3.11/site-packages/numpy/core/_methods.py:90(_clip)\n",
      "   415319   30.140    0.000   30.140    0.000 {built-in method numpy.asanyarray}\n",
      "  1192115   23.347    0.000   55.295    0.000 {pandas._libs.lib.maybe_convert_objects}\n",
      "201574027/200546935   21.135    0.000   32.712    0.000 {built-in method builtins.isinstance}\n",
      "   132424   20.611    0.000   20.611    0.000 {pandas._libs.lib.fast_unique_multiple_list}\n",
      "   198688   18.800    0.000   18.800    0.000 {built-in method pandas._libs.tslib.array_to_datetime}\n",
      "    82765   17.092    0.000   74.359    0.001 /Users/RDIB/Documents/GitHub/energy-grid-balancing-game/src/generators.py:90(<dictcomp>)\n",
      "    82765   16.445    0.000   55.510    0.001 /Users/RDIB/Documents/GitHub/energy-grid-balancing-game/src/generators.py:96(<dictcomp>)\n",
      "   231950   15.277    0.000   15.277    0.000 {pandas._libs.tslibs.vectorized.ints_to_pydatetime}\n",
      " 27951813   14.466    0.000   93.748    0.000 /Users/RDIB/Documents/GitHub/energy-grid-balancing-game/env/lib/python3.11/site-packages/numpy/core/fromnumeric.py:2100(clip)\n",
      " 13975880   14.220    0.000   38.275    0.000 /Users/RDIB/Documents/GitHub/energy-grid-balancing-game/env/lib/python3.11/site-packages/numpy/core/fromnumeric.py:40(_wrapit)\n",
      " 27951866   14.106    0.000   79.282    0.000 /Users/RDIB/Documents/GitHub/energy-grid-balancing-game/env/lib/python3.11/site-packages/numpy/core/fromnumeric.py:53(_wrapfunc)\n",
      "  2168924    9.541    0.000  112.676    0.000 /Users/RDIB/Documents/GitHub/energy-grid-balancing-game/env/lib/python3.11/site-packages/pandas/core/construction.py:519(sanitize_array)\n",
      " 30567035    8.252    0.000    8.254    0.000 {method 'total_seconds' of 'pandas._libs.tslibs.timedeltas._Timedelta' objects}\n",
      " 13975880    8.147    0.000   24.756    0.000 {method 'clip' of 'numpy.generic' objects}\n",
      "1093044/1010227    6.782    0.000   88.626    0.000 /Users/RDIB/Documents/GitHub/energy-grid-balancing-game/env/lib/python3.11/site-packages/pandas/core/series.py:371(__init__)\n",
      "71890852/71857269    6.545    0.000    7.063    0.000 {built-in method builtins.getattr}\n",
      "   115923    6.312    0.000   17.803    0.000 /Users/RDIB/Documents/GitHub/energy-grid-balancing-game/env/lib/python3.11/site-packages/pandas/core/series.py:1928(to_dict)\n",
      "   695369    6.075    0.000  119.845    0.000 /Users/RDIB/Documents/GitHub/energy-grid-balancing-game/env/lib/python3.11/site-packages/pandas/core/indexes/base.py:478(__new__)\n",
      "   182096    5.993    0.000   14.247    0.000 /Users/RDIB/Documents/GitHub/energy-grid-balancing-game/src/utils.py:52(<listcomp>)\n",
      "  1821615    4.967    0.000    7.168    0.000 /Users/RDIB/Documents/GitHub/energy-grid-balancing-game/env/lib/python3.11/site-packages/pandas/core/generic.py:6147(__finalize__)\n",
      " 16313711    4.836    0.000   10.512    0.000 /Users/RDIB/Documents/GitHub/energy-grid-balancing-game/env/lib/python3.11/site-packages/pandas/core/dtypes/generic.py:42(_instancecheck)\n",
      " 13975933    4.246    0.000   20.068    0.000 {method 'clip' of 'numpy.ndarray' objects}\n",
      " 16313711    4.179    0.000    5.547    0.000 /Users/RDIB/Documents/GitHub/energy-grid-balancing-game/env/lib/python3.11/site-packages/pandas/core/dtypes/generic.py:37(_check)\n",
      "  2190507    4.097    0.000    4.097    0.000 {method 'reduce' of 'numpy.ufunc' objects}\n",
      "    82765    3.937    0.000    3.937    0.000 /Users/RDIB/Documents/GitHub/energy-grid-balancing-game/src/generators.py:77(<dictcomp>)\n",
      "26311839/19290187    3.717    0.000    5.681    0.000 {built-in method builtins.len}\n",
      " 17047702    3.615    0.000    3.615    0.000 {built-in method numpy.asarray}\n",
      "   165569    3.493    0.000   51.329    0.000 /Users/RDIB/Documents/GitHub/energy-grid-balancing-game/env/lib/python3.11/site-packages/pandas/core/frame.py:11090(_reduce)\n",
      "  2119699    3.334    0.000    4.103    0.000 /Users/RDIB/Documents/GitHub/energy-grid-balancing-game/env/lib/python3.11/site-packages/pandas/core/generic.py:274(__init__)\n",
      "  1839891    3.334    0.000    3.334    0.000 {built-in method numpy.array}\n",
      "  1854235    2.713    0.000    4.173    0.000 /Users/RDIB/Documents/GitHub/energy-grid-balancing-game/env/lib/python3.11/site-packages/numpy/core/numeric.py:274(full)\n",
      " 27951813    2.584    0.000    2.584    0.000 /Users/RDIB/Documents/GitHub/energy-grid-balancing-game/env/lib/python3.11/site-packages/numpy/core/fromnumeric.py:2096(_clip_dispatcher)\n",
      "    49659    2.554    0.000    4.441    0.000 /Users/RDIB/Documents/GitHub/energy-grid-balancing-game/src/generators.py:73(<dictcomp>)\n",
      "  2335059    2.551    0.000    8.094    0.000 /Users/RDIB/Documents/GitHub/energy-grid-balancing-game/env/lib/python3.11/site-packages/pandas/core/generic.py:6206(__setattr__)\n",
      "   148990    2.365    0.000  174.632    0.001 /Users/RDIB/Documents/GitHub/energy-grid-balancing-game/env/lib/python3.11/site-packages/pandas/core/internals/construction.py:596(_homogenize)\n",
      "   397376    2.103    0.000   29.902    0.000 /Users/RDIB/Documents/GitHub/energy-grid-balancing-game/env/lib/python3.11/site-packages/pandas/core/arrays/datetimes.py:2159(_sequence_to_dt64ns)\n",
      "   463562    1.926    0.000   13.588    0.000 /Users/RDIB/Documents/GitHub/energy-grid-balancing-game/env/lib/python3.11/site-packages/pandas/core/internals/managers.py:308(apply)\n",
      "\n",
      "\n"
     ]
    },
    {
     "data": {
      "text/plain": [
       "<pstats.Stats at 0x177ae40d0>"
      ]
     },
     "execution_count": 3,
     "metadata": {},
     "output_type": "execute_result"
    }
   ],
   "source": [
    "# display profiler information on most time consuming functions\n",
    "Stats(profile).sort_stats(SortKey.TIME).print_stats(0.03)"
   ]
  },
  {
   "cell_type": "code",
   "execution_count": 4,
   "metadata": {},
   "outputs": [
    {
     "name": "stdout",
     "output_type": "stream",
     "text": [
      "         943104758 function calls (934672201 primitive calls) in 726.527 seconds\n",
      "\n",
      "   Ordered by: cumulative time\n",
      "   List reduced from 1444 to 43 due to restriction <0.03>\n",
      "\n",
      "   ncalls  tottime  percall  cumtime  percall filename:lineno(function)\n",
      "        3    0.000    0.000  726.527  242.176 /Users/RDIB/Documents/GitHub/energy-grid-balancing-game/env/lib/python3.11/site-packages/IPython/core/interactiveshell.py:3514(run_code)\n",
      "     11/3    0.000    0.000  726.527  242.176 {built-in method builtins.exec}\n",
      "      156    0.001    0.000  726.261    4.656 /Users/RDIB/Documents/GitHub/energy-grid-balancing-game/src/grid.py:54(optimum)\n",
      "       67    0.000    0.000  726.253   10.840 /Users/RDIB/Documents/GitHub/energy-grid-balancing-game/src/grid.py:102(optimise)\n",
      "       67    0.002    0.000  726.252   10.840 /Users/RDIB/Documents/GitHub/energy-grid-balancing-game/env/lib/python3.11/site-packages/scipy/optimize/_minimize.py:51(minimize)\n",
      "    16566    0.060    0.000  721.498    0.044 /Users/RDIB/Documents/GitHub/energy-grid-balancing-game/env/lib/python3.11/site-packages/scipy/optimize/_differentiable_functions.py:140(fun_wrapped)\n",
      "    16566    0.256    0.000  721.406    0.044 /Users/RDIB/Documents/GitHub/energy-grid-balancing-game/src/grid.py:77(obj)\n",
      "    16553    0.611    0.000  689.380    0.042 /Users/RDIB/Documents/GitHub/energy-grid-balancing-game/src/grid.py:68(dispatch_calculation)\n",
      "    16553    1.500    0.000  671.306    0.041 /Users/RDIB/Documents/GitHub/energy-grid-balancing-game/src/grid.py:159(calculate_dispatch)\n",
      "       53    0.100    0.002  527.217    9.947 /Users/RDIB/Documents/GitHub/energy-grid-balancing-game/env/lib/python3.11/site-packages/scipy/optimize/_slsqp_py.py:218(_minimize_slsqp)\n",
      "     6660    0.008    0.000  511.355    0.077 /Users/RDIB/Documents/GitHub/energy-grid-balancing-game/env/lib/python3.11/site-packages/scipy/optimize/_optimize.py:414(eval)\n",
      "     9896    0.023    0.000  430.076    0.043 /Users/RDIB/Documents/GitHub/energy-grid-balancing-game/env/lib/python3.11/site-packages/scipy/optimize/_differentiable_functions.py:275(fun)\n",
      "    11297    0.008    0.000  430.060    0.038 /Users/RDIB/Documents/GitHub/energy-grid-balancing-game/env/lib/python3.11/site-packages/scipy/optimize/_differentiable_functions.py:260(_update_fun)\n",
      "     9896    0.010    0.000  430.052    0.043 /Users/RDIB/Documents/GitHub/energy-grid-balancing-game/env/lib/python3.11/site-packages/scipy/optimize/_differentiable_functions.py:162(update_fun)\n",
      "     4002    0.108    0.000  292.624    0.073 /Users/RDIB/Documents/GitHub/energy-grid-balancing-game/env/lib/python3.11/site-packages/scipy/optimize/_numdiff.py:276(approx_derivative)\n",
      "     4002    0.102    0.000  292.187    0.073 /Users/RDIB/Documents/GitHub/energy-grid-balancing-game/env/lib/python3.11/site-packages/scipy/optimize/_numdiff.py:580(_dense_difference)\n",
      "    22678    0.077    0.000  292.173    0.013 /Users/RDIB/Documents/GitHub/energy-grid-balancing-game/env/lib/python3.11/site-packages/scipy/optimize/_numdiff.py:464(fun_wrapped)\n",
      "     1401    0.002    0.000  291.737    0.208 /Users/RDIB/Documents/GitHub/energy-grid-balancing-game/env/lib/python3.11/site-packages/scipy/optimize/_differentiable_functions.py:265(_update_grad)\n",
      "     1334    0.009    0.000  291.735    0.219 /Users/RDIB/Documents/GitHub/energy-grid-balancing-game/env/lib/python3.11/site-packages/scipy/optimize/_differentiable_functions.py:178(update_grad)\n",
      "   297993    1.398    0.000  280.287    0.001 /Users/RDIB/Documents/GitHub/energy-grid-balancing-game/env/lib/python3.11/site-packages/pandas/core/frame.py:665(__init__)\n",
      "     1334    0.003    0.000  279.808    0.210 /Users/RDIB/Documents/GitHub/energy-grid-balancing-game/env/lib/python3.11/site-packages/scipy/optimize/_differentiable_functions.py:281(grad)\n",
      "   148990    0.618    0.000  272.455    0.002 /Users/RDIB/Documents/GitHub/energy-grid-balancing-game/env/lib/python3.11/site-packages/pandas/core/internals/construction.py:423(dict_to_mgr)\n",
      "   148990    1.081    0.000  261.684    0.002 /Users/RDIB/Documents/GitHub/energy-grid-balancing-game/env/lib/python3.11/site-packages/pandas/core/internals/construction.py:96(arrays_to_mgr)\n",
      "    82765    0.619    0.000  215.604    0.003 /Users/RDIB/Documents/GitHub/energy-grid-balancing-game/src/generators.py:79(calculate_dispatch)\n",
      "       14    0.000    0.000  199.024   14.216 /Users/RDIB/Documents/GitHub/energy-grid-balancing-game/env/lib/python3.11/site-packages/scipy/optimize/_cobyla_py.py:32(wrapper)\n",
      "       14    0.024    0.002  199.024   14.216 /Users/RDIB/Documents/GitHub/energy-grid-balancing-game/env/lib/python3.11/site-packages/scipy/optimize/_cobyla_py.py:189(_minimize_cobyla)\n",
      "     4570    0.031    0.000  198.925    0.044 /Users/RDIB/Documents/GitHub/energy-grid-balancing-game/env/lib/python3.11/site-packages/scipy/optimize/_cobyla_py.py:280(calcfc)\n",
      "   148990    2.365    0.000  174.632    0.001 /Users/RDIB/Documents/GitHub/energy-grid-balancing-game/env/lib/python3.11/site-packages/pandas/core/internals/construction.py:596(_homogenize)\n",
      "   695369    6.075    0.000  119.845    0.000 /Users/RDIB/Documents/GitHub/energy-grid-balancing-game/env/lib/python3.11/site-packages/pandas/core/indexes/base.py:478(__new__)\n",
      "  2168924    9.541    0.000  112.676    0.000 /Users/RDIB/Documents/GitHub/energy-grid-balancing-game/env/lib/python3.11/site-packages/pandas/core/construction.py:519(sanitize_array)\n",
      " 27951813   14.466    0.000   93.748    0.000 /Users/RDIB/Documents/GitHub/energy-grid-balancing-game/env/lib/python3.11/site-packages/numpy/core/fromnumeric.py:2100(clip)\n",
      "   579355    0.414    0.000   93.474    0.000 /Users/RDIB/Documents/GitHub/energy-grid-balancing-game/env/lib/python3.11/site-packages/pandas/core/dtypes/cast.py:863(dict_compat)\n",
      "   182096    1.502    0.000   93.452    0.001 /Users/RDIB/Documents/GitHub/energy-grid-balancing-game/src/utils.py:46(total_energy)\n",
      "   579355   33.954    0.000   93.002    0.000 /Users/RDIB/Documents/GitHub/energy-grid-balancing-game/env/lib/python3.11/site-packages/pandas/core/dtypes/cast.py:875(<dictcomp>)\n",
      "1093044/1010227    6.782    0.000   88.626    0.000 /Users/RDIB/Documents/GitHub/energy-grid-balancing-game/env/lib/python3.11/site-packages/pandas/core/series.py:371(__init__)\n",
      "   132424    1.277    0.000   82.044    0.001 /Users/RDIB/Documents/GitHub/energy-grid-balancing-game/env/lib/python3.11/site-packages/pandas/core/internals/construction.py:638(_extract_index)\n",
      "   148990    0.396    0.000   80.784    0.001 /Users/RDIB/Documents/GitHub/energy-grid-balancing-game/env/lib/python3.11/site-packages/pandas/core/indexes/api.py:202(union_indexes)\n",
      " 27951866   14.106    0.000   79.282    0.000 /Users/RDIB/Documents/GitHub/energy-grid-balancing-game/env/lib/python3.11/site-packages/numpy/core/fromnumeric.py:53(_wrapfunc)\n",
      "   132424    0.407    0.000   79.167    0.001 /Users/RDIB/Documents/GitHub/energy-grid-balancing-game/env/lib/python3.11/site-packages/pandas/core/indexes/api.py:228(_unique_indices)\n",
      "    82765   17.092    0.000   74.359    0.001 /Users/RDIB/Documents/GitHub/energy-grid-balancing-game/src/generators.py:90(<dictcomp>)\n",
      "   182096   41.235    0.000   71.635    0.000 /Users/RDIB/Documents/GitHub/energy-grid-balancing-game/env/lib/python3.11/site-packages/numpy/lib/function_base.py:1324(diff)\n",
      " 97831160   51.217    0.000   59.049    0.000 /Users/RDIB/Documents/GitHub/energy-grid-balancing-game/env/lib/python3.11/site-packages/pandas/core/dtypes/cast.py:154(maybe_box_datetimelike)\n",
      "    82765   16.445    0.000   55.510    0.001 /Users/RDIB/Documents/GitHub/energy-grid-balancing-game/src/generators.py:96(<dictcomp>)\n",
      "\n",
      "\n"
     ]
    },
    {
     "data": {
      "text/plain": [
       "<pstats.Stats at 0x130a9fe50>"
      ]
     },
     "execution_count": 4,
     "metadata": {},
     "output_type": "execute_result"
    }
   ],
   "source": [
    "# display profiler information on most time consuming functions/sub functions\n",
    "Stats(profile).sort_stats(SortKey.CUMULATIVE).print_stats(0.03)"
   ]
  },
  {
   "cell_type": "code",
   "execution_count": 5,
   "metadata": {},
   "outputs": [
    {
     "data": {
      "application/vnd.jupyter.widget-view+json": {
       "model_id": "0ee1c8bb00854ccd9615b81b976745de",
       "version_major": 2,
       "version_minor": 0
      },
      "text/plain": [
       "  0%|          | 0/52 [00:00<?, ?it/s]"
      ]
     },
     "metadata": {},
     "output_type": "display_data"
    }
   ],
   "source": [
    "for week in tqdm(WEEK_MAP[\"week\"]):\n",
    "    assert week in opt_init_weekly"
   ]
  },
  {
   "cell_type": "code",
   "execution_count": 6,
   "metadata": {},
   "outputs": [],
   "source": [
    "# save file\n",
    "with open(os.path.join(os.getcwd(), \"weekly_optimum.json\"), \"w\") as f:\n",
    "    f.write(json.dumps(opt_init_weekly))"
   ]
  },
  {
   "cell_type": "code",
   "execution_count": 7,
   "metadata": {},
   "outputs": [
    {
     "data": {
      "image/png": "[encoded data removed]",
      "text/plain": [
       "<Figure size 1200x1200 with 4 Axes>"
      ]
     },
     "metadata": {},
     "output_type": "display_data"
    }
   ],
   "source": [
    "# plot results\n",
    "df = pd.DataFrame(opt_init_weekly).T\n",
    "fig, ax_all = plt.subplots(nrows=2, ncols=2, figsize=(12, 12))\n",
    "for data, ax_row in zip(\n",
    "    [df.drop(columns=\"score\"), df[[\"score\"]]],\n",
    "    [[ax_all[0, 0], ax_all[0, 1]], [ax_all[1, 0], ax_all[1, 1]]],\n",
    "):\n",
    "    for ax in ax_row:\n",
    "        sns.boxplot(data=data, orient=\"h\", ax=ax)\n",
    "        ax.grid()\n",
    "ax_all[0, 0].set_xlim(left=0)\n",
    "ax_all[1, 0].set_xlim(left=0)\n",
    "ax_all[0, 1].set_xlim(left=0, right=3)\n",
    "ax_all[1, 1].set_xlim(left=0, right=100)\n",
    "fig.tight_layout()"
   ]
  }
 ],
 "metadata": {
  "kernelspec": {
   "display_name": "env",
   "language": "python",
   "name": "python3"
  },
  "language_info": {
   "codemirror_mode": {
    "name": "ipython",
    "version": 3
   },
   "file_extension": ".py",
   "mimetype": "text/x-python",
   "name": "python",
   "nbconvert_exporter": "python",
   "pygments_lexer": "ipython3",
   "version": "3.11.4"
  }
 },
 "nbformat": 4,
 "nbformat_minor": 2
}
