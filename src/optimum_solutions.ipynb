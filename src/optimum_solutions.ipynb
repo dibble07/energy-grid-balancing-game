{
 "cells": [
  {
   "cell_type": "markdown",
   "metadata": {},
   "source": [
    "# Optimisation solutions\n",
    "The optimum solution for each week differs. To improve converge quality and speed, the optimum for each week shall be calculated and stored"
   ]
  },
  {
   "cell_type": "code",
   "execution_count": 1,
   "metadata": {},
   "outputs": [],
   "source": [
    "# imports\n",
    "import json\n",
    "import os\n",
    "import time\n",
    "import warnings\n",
    "from cProfile import Profile\n",
    "from pstats import SortKey, Stats\n",
    "\n",
    "import matplotlib.pyplot as plt\n",
    "import pandas as pd\n",
    "import seaborn as sns\n",
    "from tqdm.notebook import tqdm\n",
    "\n",
    "from src.grid import Grid\n",
    "from src.generators import (\n",
    "    SolarGenerator,\n",
    "    WindGenerator,\n",
    "    NuclearGenerator,\n",
    "    CoalGenerator,\n",
    "    GasGenerator,\n",
    "    BatteryGenerator,\n",
    ")\n",
    "from src.utils import WEEK_MAP"
   ]
  },
  {
   "cell_type": "code",
   "execution_count": 2,
   "metadata": {},
   "outputs": [
    {
     "data": {
      "application/vnd.jupyter.widget-view+json": {
       "model_id": "2184782201fa431483e1a50600488d0e",
       "version_major": 2,
       "version_minor": 0
      },
      "text/plain": [
       "  0%|          | 0/52 [00:00<?, ?it/s]"
      ]
     },
     "metadata": {},
     "output_type": "display_data"
    },
    {
     "name": "stdout",
     "output_type": "stream",
     "text": [
      "1\n"
     ]
    },
    {
     "name": "stderr",
     "output_type": "stream",
     "text": [
      "/Users/RDIB/Documents/GitHub/energy-grid-balancing-game/src/grid.py:137: UserWarning: Optimiser failed with method: SLSQP and init values: optimal\n",
      "  warnings.warn(\n"
     ]
    },
    {
     "name": "stdout",
     "output_type": "stream",
     "text": [
      "2\n",
      "3\n",
      "4\n",
      "5\n",
      "6\n",
      "7\n"
     ]
    },
    {
     "name": "stderr",
     "output_type": "stream",
     "text": [
      "/Users/RDIB/Documents/GitHub/energy-grid-balancing-game/src/grid.py:137: UserWarning: Optimiser failed with method: SLSQP and init values: optimal\n",
      "  warnings.warn(\n"
     ]
    },
    {
     "name": "stdout",
     "output_type": "stream",
     "text": [
      "8\n"
     ]
    },
    {
     "name": "stderr",
     "output_type": "stream",
     "text": [
      "/Users/RDIB/Documents/GitHub/energy-grid-balancing-game/src/grid.py:137: UserWarning: Optimiser failed with method: SLSQP and init values: optimal\n",
      "  warnings.warn(\n",
      "/Users/RDIB/Documents/GitHub/energy-grid-balancing-game/src/grid.py:137: UserWarning: Optimiser failed with method: COBYLA and init values: optimal\n",
      "  warnings.warn(\n"
     ]
    },
    {
     "name": "stdout",
     "output_type": "stream",
     "text": [
      "9\n"
     ]
    },
    {
     "name": "stderr",
     "output_type": "stream",
     "text": [
      "/Users/RDIB/Documents/GitHub/energy-grid-balancing-game/src/grid.py:137: UserWarning: Optimiser failed with method: SLSQP and init values: optimal\n",
      "  warnings.warn(\n",
      "/Users/RDIB/Documents/GitHub/energy-grid-balancing-game/src/grid.py:137: UserWarning: Optimiser failed with method: COBYLA and init values: optimal\n",
      "  warnings.warn(\n"
     ]
    },
    {
     "name": "stdout",
     "output_type": "stream",
     "text": [
      "10\n"
     ]
    },
    {
     "name": "stderr",
     "output_type": "stream",
     "text": [
      "/Users/RDIB/Documents/GitHub/energy-grid-balancing-game/src/grid.py:137: UserWarning: Optimiser failed with method: SLSQP and init values: optimal\n",
      "  warnings.warn(\n",
      "/Users/RDIB/Documents/GitHub/energy-grid-balancing-game/src/grid.py:137: UserWarning: Optimiser failed with method: COBYLA and init values: optimal\n",
      "  warnings.warn(\n",
      "/Users/RDIB/Documents/GitHub/energy-grid-balancing-game/src/grid.py:137: UserWarning: Optimiser failed with method: SLSQP and init values: conservative\n",
      "  warnings.warn(\n"
     ]
    },
    {
     "name": "stdout",
     "output_type": "stream",
     "text": [
      "11\n"
     ]
    },
    {
     "name": "stderr",
     "output_type": "stream",
     "text": [
      "/Users/RDIB/Documents/GitHub/energy-grid-balancing-game/src/grid.py:137: UserWarning: Optimiser failed with method: SLSQP and init values: optimal\n",
      "  warnings.warn(\n"
     ]
    },
    {
     "name": "stdout",
     "output_type": "stream",
     "text": [
      "12\n",
      "13\n"
     ]
    },
    {
     "name": "stderr",
     "output_type": "stream",
     "text": [
      "/Users/RDIB/Documents/GitHub/energy-grid-balancing-game/src/grid.py:137: UserWarning: Optimiser failed with method: SLSQP and init values: optimal\n",
      "  warnings.warn(\n"
     ]
    },
    {
     "name": "stdout",
     "output_type": "stream",
     "text": [
      "14\n",
      "15\n"
     ]
    },
    {
     "name": "stderr",
     "output_type": "stream",
     "text": [
      "/Users/RDIB/Documents/GitHub/energy-grid-balancing-game/src/grid.py:137: UserWarning: Optimiser failed with method: SLSQP and init values: optimal\n",
      "  warnings.warn(\n"
     ]
    },
    {
     "name": "stdout",
     "output_type": "stream",
     "text": [
      "16\n"
     ]
    },
    {
     "name": "stderr",
     "output_type": "stream",
     "text": [
      "/Users/RDIB/Documents/GitHub/energy-grid-balancing-game/src/grid.py:137: UserWarning: Optimiser failed with method: SLSQP and init values: optimal\n",
      "  warnings.warn(\n"
     ]
    },
    {
     "name": "stdout",
     "output_type": "stream",
     "text": [
      "17\n"
     ]
    },
    {
     "name": "stderr",
     "output_type": "stream",
     "text": [
      "/Users/RDIB/Documents/GitHub/energy-grid-balancing-game/src/grid.py:137: UserWarning: Optimiser failed with method: SLSQP and init values: optimal\n",
      "  warnings.warn(\n"
     ]
    },
    {
     "name": "stdout",
     "output_type": "stream",
     "text": [
      "18\n"
     ]
    },
    {
     "name": "stderr",
     "output_type": "stream",
     "text": [
      "/Users/RDIB/Documents/GitHub/energy-grid-balancing-game/src/grid.py:137: UserWarning: Optimiser failed with method: SLSQP and init values: optimal\n",
      "  warnings.warn(\n"
     ]
    },
    {
     "name": "stdout",
     "output_type": "stream",
     "text": [
      "19\n"
     ]
    },
    {
     "name": "stderr",
     "output_type": "stream",
     "text": [
      "/Users/RDIB/Documents/GitHub/energy-grid-balancing-game/src/grid.py:137: UserWarning: Optimiser failed with method: SLSQP and init values: optimal\n",
      "  warnings.warn(\n"
     ]
    },
    {
     "name": "stdout",
     "output_type": "stream",
     "text": [
      "20\n",
      "21\n"
     ]
    },
    {
     "name": "stderr",
     "output_type": "stream",
     "text": [
      "/Users/RDIB/Documents/GitHub/energy-grid-balancing-game/src/grid.py:137: UserWarning: Optimiser failed with method: SLSQP and init values: optimal\n",
      "  warnings.warn(\n"
     ]
    },
    {
     "name": "stdout",
     "output_type": "stream",
     "text": [
      "22\n",
      "23\n"
     ]
    },
    {
     "name": "stderr",
     "output_type": "stream",
     "text": [
      "/Users/RDIB/Documents/GitHub/energy-grid-balancing-game/src/grid.py:137: UserWarning: Optimiser failed with method: SLSQP and init values: optimal\n",
      "  warnings.warn(\n",
      "/Users/RDIB/Documents/GitHub/energy-grid-balancing-game/src/grid.py:137: UserWarning: Optimiser failed with method: COBYLA and init values: optimal\n",
      "  warnings.warn(\n",
      "/Users/RDIB/Documents/GitHub/energy-grid-balancing-game/src/grid.py:137: UserWarning: Optimiser failed with method: SLSQP and init values: conservative\n",
      "  warnings.warn(\n",
      "/Users/RDIB/Documents/GitHub/energy-grid-balancing-game/src/grid.py:137: UserWarning: Optimiser failed with method: COBYLA and init values: conservative\n",
      "  warnings.warn(\n",
      "/Users/RDIB/Documents/GitHub/energy-grid-balancing-game/src/grid.py:150: UserWarning: Optimiser failed:  message: Did not converge to a solution satisfying the constraints. See `maxcv` for magnitude of violation.\n",
      " success: False\n",
      "  status: 4\n",
      "     fun: 55.10667177062236\n",
      "       x: [ 6.068e-01  1.078e+00  5.282e-01  1.790e-01  3.730e-02\n",
      "            4.861e-02]\n",
      "    nfev: 180\n",
      "   maxcv: 0.0003586099496927462\n",
      "  warnings.warn(f\"Optimiser failed: {res}\")\n",
      "/var/folders/cf/l2k6zjsj3n5g2wgcr4xyq3880000gp/T/ipykernel_21557/4288747727.py:33: UserWarning: No optimum found\n",
      "  warnings.warn(f\"No optimum found\")\n"
     ]
    },
    {
     "name": "stdout",
     "output_type": "stream",
     "text": [
      "24\n",
      "25\n",
      "26\n"
     ]
    },
    {
     "name": "stderr",
     "output_type": "stream",
     "text": [
      "/Users/RDIB/Documents/GitHub/energy-grid-balancing-game/src/grid.py:137: UserWarning: Optimiser failed with method: SLSQP and init values: optimal\n",
      "  warnings.warn(\n"
     ]
    },
    {
     "name": "stdout",
     "output_type": "stream",
     "text": [
      "27\n"
     ]
    },
    {
     "name": "stderr",
     "output_type": "stream",
     "text": [
      "/Users/RDIB/Documents/GitHub/energy-grid-balancing-game/src/grid.py:137: UserWarning: Optimiser failed with method: SLSQP and init values: optimal\n",
      "  warnings.warn(\n"
     ]
    },
    {
     "name": "stdout",
     "output_type": "stream",
     "text": [
      "28\n",
      "29\n",
      "30\n",
      "31\n",
      "32\n",
      "33\n",
      "34\n",
      "35\n",
      "36\n"
     ]
    },
    {
     "name": "stderr",
     "output_type": "stream",
     "text": [
      "/Users/RDIB/Documents/GitHub/energy-grid-balancing-game/src/grid.py:137: UserWarning: Optimiser failed with method: SLSQP and init values: optimal\n",
      "  warnings.warn(\n"
     ]
    },
    {
     "name": "stdout",
     "output_type": "stream",
     "text": [
      "37\n",
      "38\n"
     ]
    },
    {
     "name": "stderr",
     "output_type": "stream",
     "text": [
      "/Users/RDIB/Documents/GitHub/energy-grid-balancing-game/src/grid.py:137: UserWarning: Optimiser failed with method: SLSQP and init values: optimal\n",
      "  warnings.warn(\n"
     ]
    },
    {
     "name": "stdout",
     "output_type": "stream",
     "text": [
      "39\n"
     ]
    },
    {
     "name": "stderr",
     "output_type": "stream",
     "text": [
      "/Users/RDIB/Documents/GitHub/energy-grid-balancing-game/src/grid.py:137: UserWarning: Optimiser failed with method: SLSQP and init values: optimal\n",
      "  warnings.warn(\n"
     ]
    },
    {
     "name": "stdout",
     "output_type": "stream",
     "text": [
      "40\n",
      "41\n"
     ]
    },
    {
     "name": "stderr",
     "output_type": "stream",
     "text": [
      "/Users/RDIB/Documents/GitHub/energy-grid-balancing-game/src/grid.py:137: UserWarning: Optimiser failed with method: SLSQP and init values: optimal\n",
      "  warnings.warn(\n"
     ]
    },
    {
     "name": "stdout",
     "output_type": "stream",
     "text": [
      "42\n",
      "43\n",
      "44\n",
      "45\n",
      "46\n",
      "47\n",
      "48\n",
      "49\n"
     ]
    },
    {
     "name": "stderr",
     "output_type": "stream",
     "text": [
      "/Users/RDIB/Documents/GitHub/energy-grid-balancing-game/src/grid.py:137: UserWarning: Optimiser failed with method: SLSQP and init values: optimal\n",
      "  warnings.warn(\n"
     ]
    },
    {
     "name": "stdout",
     "output_type": "stream",
     "text": [
      "50\n",
      "51\n",
      "52\n"
     ]
    },
    {
     "name": "stderr",
     "output_type": "stream",
     "text": [
      "/Users/RDIB/Documents/GitHub/energy-grid-balancing-game/src/grid.py:137: UserWarning: Optimiser failed with method: SLSQP and init values: optimal\n",
      "  warnings.warn(\n"
     ]
    }
   ],
   "source": [
    "profile = Profile()\n",
    "profile.enable()\n",
    "\n",
    "# initialise dictionary of optimum initialisations\n",
    "opt_init_weekly = {}\n",
    "\n",
    "# loop over each week\n",
    "for week in tqdm(WEEK_MAP[\"week\"]):\n",
    "    print(week)\n",
    "    # initialise grid for current week\n",
    "    grid = Grid(\n",
    "        generators={\n",
    "            \"solar\": SolarGenerator,\n",
    "            \"wind\": WindGenerator,\n",
    "            \"nuclear\": NuclearGenerator,\n",
    "            \"battery\": BatteryGenerator,\n",
    "            \"gas\": GasGenerator,\n",
    "            \"coal\": CoalGenerator,\n",
    "        },\n",
    "        week=week,\n",
    "    )\n",
    "\n",
    "    # save successul optimisations and print unsuccessful ones\n",
    "    if grid.optimum is not None:\n",
    "        opt_init_weekly[int(week)] = {\n",
    "            **{\n",
    "                k: v / grid.demand.max()\n",
    "                for k, v in grid.optimum[\"installed_capacity\"].items()\n",
    "            },\n",
    "            **{\"score\": grid.optimum[\"score\"]},\n",
    "        }\n",
    "    else:\n",
    "        warnings.warn(f\"No optimum found\")\n",
    "\n",
    "profile.disable()"
   ]
  },
  {
   "cell_type": "code",
   "execution_count": 3,
   "metadata": {},
   "outputs": [
    {
     "name": "stdout",
     "output_type": "stream",
     "text": [
      "         2149693882 function calls (2128387323 primitive calls) in 1653.485 seconds\n",
      "\n",
      "   Ordered by: internal time\n",
      "   List reduced from 1550 to 47 due to restriction <0.03>\n",
      "\n",
      "   ncalls  tottime  percall  cumtime  percall filename:lineno(function)\n",
      "  1871428  112.195    0.000  114.122    0.000 /Users/RDIB/Documents/GitHub/energy-grid-balancing-game/env/lib/python3.11/site-packages/pandas/core/dtypes/cast.py:1544(construct_1d_object_array_from_listlike)\n",
      "   632934  110.322    0.000  201.735    0.000 /Users/RDIB/Documents/GitHub/energy-grid-balancing-game/env/lib/python3.11/site-packages/numpy/lib/function_base.py:1324(diff)\n",
      "  1529642   91.284    0.000   91.284    0.000 {built-in method numpy.asanyarray}\n",
      " 83697608   87.925    0.000   87.925    0.000 /Users/RDIB/Documents/GitHub/energy-grid-balancing-game/env/lib/python3.11/site-packages/numpy/core/_methods.py:90(_clip)\n",
      "  3164946   70.301    0.000  164.191    0.000 {pandas._libs.lib.maybe_convert_objects}\n",
      "   688002   52.085    0.000   52.085    0.000 {built-in method pandas._libs.tslib.array_to_datetime}\n",
      " 46498640   46.418    0.000  121.284    0.000 /Users/RDIB/Documents/GitHub/energy-grid-balancing-game/env/lib/python3.11/site-packages/numpy/core/fromnumeric.py:40(_wrapit)\n",
      " 83752700   44.126    0.000  232.095    0.000 /Users/RDIB/Documents/GitHub/energy-grid-balancing-game/env/lib/python3.11/site-packages/numpy/core/fromnumeric.py:53(_wrapfunc)\n",
      " 83697608   43.358    0.000  275.330    0.000 /Users/RDIB/Documents/GitHub/energy-grid-balancing-game/env/lib/python3.11/site-packages/numpy/core/fromnumeric.py:2100(clip)\n",
      "   220144   42.923    0.000  141.502    0.001 /Users/RDIB/Documents/GitHub/energy-grid-balancing-game/src/generators.py:97(<dictcomp>)\n",
      "   220144   41.715    0.000  187.220    0.001 /Users/RDIB/Documents/GitHub/energy-grid-balancing-game/src/generators.py:91(<dictcomp>)\n",
      "    55036   41.431    0.001  169.012    0.003 /Users/RDIB/Documents/GitHub/energy-grid-balancing-game/src/generators.py:321(calculate_dispatch)\n",
      " 83697552   41.342    0.000   48.012    0.000 /Users/RDIB/Documents/GitHub/energy-grid-balancing-game/env/lib/python3.11/site-packages/pandas/core/dtypes/cast.py:154(maybe_box_datetimelike)\n",
      "304518406/303141666   35.184    0.000   57.734    0.000 {built-in method builtins.isinstance}\n",
      "   660432   32.650    0.000   34.077    0.000 {pandas._libs.lib.fast_multiget}\n",
      " 97127661   30.462    0.000   30.673    0.000 {method 'total_seconds' of 'pandas._libs.tslibs.timedeltas._Timedelta' objects}\n",
      "   495324   26.418    0.000   74.430    0.000 /Users/RDIB/Documents/GitHub/energy-grid-balancing-game/env/lib/python3.11/site-packages/pandas/core/dtypes/cast.py:875(<dictcomp>)\n",
      "   412978   24.967    0.000   24.967    0.000 {pandas._libs.tslibs.vectorized.ints_to_pydatetime}\n",
      " 37198912   20.162    0.000   60.172    0.000 {method 'clip' of 'numpy.generic' objects}\n",
      "  4100726   19.609    0.000  326.336    0.000 /Users/RDIB/Documents/GitHub/energy-grid-balancing-game/env/lib/python3.11/site-packages/pandas/core/construction.py:519(sanitize_array)\n",
      "  4846004   19.290    0.000   19.290    0.000 {built-in method numpy.array}\n",
      "   577898   19.255    0.000   49.887    0.000 /Users/RDIB/Documents/GitHub/energy-grid-balancing-game/src/utils.py:53(<listcomp>)\n",
      "2752360/2146912   18.859    0.000  410.281    0.000 /Users/RDIB/Documents/GitHub/energy-grid-balancing-game/env/lib/python3.11/site-packages/pandas/core/series.py:371(__init__)\n",
      "189354491/189298964   16.507    0.000   17.258    0.000 {built-in method builtins.getattr}\n",
      "   330268   15.331    0.000   45.883    0.000 /Users/RDIB/Documents/GitHub/energy-grid-balancing-game/env/lib/python3.11/site-packages/pandas/core/series.py:1928(to_dict)\n",
      " 46498696   13.935    0.000   61.851    0.000 {method 'clip' of 'numpy.ndarray' objects}\n",
      "   110072   13.265    0.000   13.265    0.000 {pandas._libs.lib.fast_unique_multiple_list}\n",
      "  1403610   12.518    0.000  339.017    0.000 /Users/RDIB/Documents/GitHub/energy-grid-balancing-game/env/lib/python3.11/site-packages/pandas/core/indexes/base.py:478(__new__)\n",
      " 53825865   10.554    0.000   10.554    0.000 {built-in method numpy.asarray}\n",
      "  5357833    9.479    0.000    9.479    0.000 {method 'reduce' of 'numpy.ufunc' objects}\n",
      "65100485/46302039    9.413    0.000   14.365    0.000 {built-in method builtins.len}\n",
      " 31327245    9.409    0.000   20.109    0.000 /Users/RDIB/Documents/GitHub/energy-grid-balancing-game/env/lib/python3.11/site-packages/pandas/core/dtypes/generic.py:42(_instancecheck)\n",
      " 31327245    8.083    0.000   10.495    0.000 /Users/RDIB/Documents/GitHub/energy-grid-balancing-game/env/lib/python3.11/site-packages/pandas/core/dtypes/generic.py:37(_check)\n",
      " 83697608    7.761    0.000    7.761    0.000 /Users/RDIB/Documents/GitHub/energy-grid-balancing-game/env/lib/python3.11/site-packages/numpy/core/fromnumeric.py:2096(_clip_dispatcher)\n",
      "  2835223    7.724    0.000   11.057    0.000 /Users/RDIB/Documents/GitHub/energy-grid-balancing-game/env/lib/python3.11/site-packages/pandas/core/generic.py:6147(__finalize__)\n",
      "   385312    7.601    0.000  135.378    0.000 /Users/RDIB/Documents/GitHub/energy-grid-balancing-game/env/lib/python3.11/site-packages/pandas/core/frame.py:11090(_reduce)\n",
      "  4679073    7.362    0.000    9.170    0.000 /Users/RDIB/Documents/GitHub/energy-grid-balancing-game/env/lib/python3.11/site-packages/pandas/core/generic.py:274(__init__)\n",
      "  1376004    6.987    0.000   89.379    0.000 /Users/RDIB/Documents/GitHub/energy-grid-balancing-game/env/lib/python3.11/site-packages/pandas/core/arrays/datetimes.py:2159(_sequence_to_dt64ns)\n",
      " 33182586    6.375    0.000    8.636    0.000 /Users/RDIB/Documents/GitHub/energy-grid-balancing-game/src/generators.py:59(installed_capacity)\n",
      " 37144065    6.281    0.000    6.281    0.000 {built-in method builtins.max}\n",
      "    27518    6.001    0.000 1564.867    0.057 /Users/RDIB/Documents/GitHub/energy-grid-balancing-game/src/grid.py:160(calculate_dispatch)\n",
      "  1376004    5.943    0.000  101.864    0.000 /Users/RDIB/Documents/GitHub/energy-grid-balancing-game/env/lib/python3.11/site-packages/pandas/core/arrays/datetimes.py:299(_from_sequence_not_strict)\n",
      "  5257122    5.721    0.000   19.902    0.000 /Users/RDIB/Documents/GitHub/energy-grid-balancing-game/env/lib/python3.11/site-packages/pandas/core/generic.py:6206(__setattr__)\n",
      "  3825378    5.637    0.000    8.479    0.000 /Users/RDIB/Documents/GitHub/energy-grid-balancing-game/env/lib/python3.11/site-packages/numpy/core/numeric.py:274(full)\n",
      "   137590    5.573    0.000    5.573    0.000 /Users/RDIB/Documents/GitHub/energy-grid-balancing-game/src/generators.py:79(<dictcomp>)\n",
      " 56163940    4.812    0.000   25.545    0.000 /Users/RDIB/Documents/GitHub/energy-grid-balancing-game/env/lib/python3.11/site-packages/pandas/core/arrays/datetimes.py:633(__iter__)\n",
      " 51037080    4.721    0.000    5.003    0.000 {built-in method builtins.hasattr}\n",
      "\n",
      "\n"
     ]
    },
    {
     "data": {
      "text/plain": [
       "<pstats.Stats at 0x2974e3410>"
      ]
     },
     "execution_count": 3,
     "metadata": {},
     "output_type": "execute_result"
    }
   ],
   "source": [
    "# display profiler information on most time consuming functions\n",
    "Stats(profile).sort_stats(SortKey.TIME).print_stats(0.03)"
   ]
  },
  {
   "cell_type": "code",
   "execution_count": 4,
   "metadata": {},
   "outputs": [
    {
     "name": "stdout",
     "output_type": "stream",
     "text": [
      "         2149693882 function calls (2128387323 primitive calls) in 1653.485 seconds\n",
      "\n",
      "   Ordered by: cumulative time\n",
      "   List reduced from 1550 to 47 due to restriction <0.03>\n",
      "\n",
      "   ncalls  tottime  percall  cumtime  percall filename:lineno(function)\n",
      "        3    0.000    0.000 1653.485  551.162 /Users/RDIB/Documents/GitHub/energy-grid-balancing-game/env/lib/python3.11/site-packages/IPython/core/interactiveshell.py:3514(run_code)\n",
      "     11/3    0.000    0.000 1653.485  551.162 {built-in method builtins.exec}\n",
      "      154    0.001    0.000 1653.156   10.735 /Users/RDIB/Documents/GitHub/energy-grid-balancing-game/src/grid.py:54(optimum)\n",
      "       80    0.001    0.000 1653.132   20.664 /Users/RDIB/Documents/GitHub/energy-grid-balancing-game/src/grid.py:102(optimise)\n",
      "       80    0.002    0.000 1653.132   20.664 /Users/RDIB/Documents/GitHub/energy-grid-balancing-game/env/lib/python3.11/site-packages/scipy/optimize/_minimize.py:51(minimize)\n",
      "    27538    0.091    0.000 1645.567    0.060 /Users/RDIB/Documents/GitHub/energy-grid-balancing-game/env/lib/python3.11/site-packages/scipy/optimize/_differentiable_functions.py:140(fun_wrapped)\n",
      "    27538    0.404    0.000 1645.428    0.060 /Users/RDIB/Documents/GitHub/energy-grid-balancing-game/src/grid.py:77(obj)\n",
      "    27518    0.449    0.000 1592.814    0.058 /Users/RDIB/Documents/GitHub/energy-grid-balancing-game/src/grid.py:68(dispatch_calculation)\n",
      "    27518    6.001    0.000 1564.867    0.057 /Users/RDIB/Documents/GitHub/energy-grid-balancing-game/src/grid.py:160(calculate_dispatch)\n",
      "       56    0.164    0.003 1456.473   26.008 /Users/RDIB/Documents/GitHub/energy-grid-balancing-game/env/lib/python3.11/site-packages/scipy/optimize/_slsqp_py.py:218(_minimize_slsqp)\n",
      "    12423    0.014    0.000 1429.864    0.115 /Users/RDIB/Documents/GitHub/energy-grid-balancing-game/env/lib/python3.11/site-packages/scipy/optimize/_optimize.py:414(eval)\n",
      "     7092    0.181    0.000  851.729    0.120 /Users/RDIB/Documents/GitHub/energy-grid-balancing-game/env/lib/python3.11/site-packages/scipy/optimize/_numdiff.py:276(approx_derivative)\n",
      "     7092    0.193    0.000  850.991    0.120 /Users/RDIB/Documents/GitHub/energy-grid-balancing-game/env/lib/python3.11/site-packages/scipy/optimize/_numdiff.py:580(_dense_difference)\n",
      "    47280    0.154    0.000  850.952    0.018 /Users/RDIB/Documents/GitHub/energy-grid-balancing-game/env/lib/python3.11/site-packages/scipy/optimize/_numdiff.py:464(fun_wrapped)\n",
      "     2444    0.004    0.000  850.013    0.348 /Users/RDIB/Documents/GitHub/energy-grid-balancing-game/env/lib/python3.11/site-packages/scipy/optimize/_differentiable_functions.py:265(_update_grad)\n",
      "     2364    0.013    0.000  850.009    0.360 /Users/RDIB/Documents/GitHub/energy-grid-balancing-game/env/lib/python3.11/site-packages/scipy/optimize/_differentiable_functions.py:178(update_grad)\n",
      "     2364    0.004    0.000  829.750    0.351 /Users/RDIB/Documents/GitHub/energy-grid-balancing-game/env/lib/python3.11/site-packages/scipy/optimize/_differentiable_functions.py:281(grad)\n",
      "    13354    0.029    0.000  796.116    0.060 /Users/RDIB/Documents/GitHub/energy-grid-balancing-game/env/lib/python3.11/site-packages/scipy/optimize/_differentiable_functions.py:275(fun)\n",
      "    15798    0.011    0.000  796.083    0.050 /Users/RDIB/Documents/GitHub/energy-grid-balancing-game/env/lib/python3.11/site-packages/scipy/optimize/_differentiable_functions.py:260(_update_fun)\n",
      "    13354    0.012    0.000  796.071    0.060 /Users/RDIB/Documents/GitHub/energy-grid-balancing-game/env/lib/python3.11/site-packages/scipy/optimize/_differentiable_functions.py:162(update_fun)\n",
      "   220144    0.914    0.000  533.265    0.002 /Users/RDIB/Documents/GitHub/energy-grid-balancing-game/src/generators.py:81(calculate_dispatch)\n",
      "2752360/2146912   18.859    0.000  410.281    0.000 /Users/RDIB/Documents/GitHub/energy-grid-balancing-game/env/lib/python3.11/site-packages/pandas/core/series.py:371(__init__)\n",
      "  1403610   12.518    0.000  339.017    0.000 /Users/RDIB/Documents/GitHub/energy-grid-balancing-game/env/lib/python3.11/site-packages/pandas/core/indexes/base.py:478(__new__)\n",
      "  4100726   19.609    0.000  326.336    0.000 /Users/RDIB/Documents/GitHub/energy-grid-balancing-game/env/lib/python3.11/site-packages/pandas/core/construction.py:519(sanitize_array)\n",
      "   605448    2.236    0.000  323.423    0.001 /Users/RDIB/Documents/GitHub/energy-grid-balancing-game/env/lib/python3.11/site-packages/pandas/core/series.py:524(_init_dict)\n",
      "  5862330    2.512    0.000  277.154    0.000 /Users/RDIB/Documents/GitHub/energy-grid-balancing-game/env/lib/python3.11/site-packages/pandas/core/indexes/base.py:7521(ensure_index)\n",
      " 83697608   43.358    0.000  275.330    0.000 /Users/RDIB/Documents/GitHub/energy-grid-balancing-game/env/lib/python3.11/site-packages/numpy/core/fromnumeric.py:2100(clip)\n",
      "   577898    4.291    0.000  264.577    0.000 /Users/RDIB/Documents/GitHub/energy-grid-balancing-game/src/utils.py:47(total_energy)\n",
      "   275180    1.027    0.000  252.908    0.001 /Users/RDIB/Documents/GitHub/energy-grid-balancing-game/src/generators.py:107(calculate_dispatch_totals)\n",
      "   798082    3.050    0.000  233.213    0.000 /Users/RDIB/Documents/GitHub/energy-grid-balancing-game/env/lib/python3.11/site-packages/pandas/core/frame.py:665(__init__)\n",
      " 83752700   44.126    0.000  232.095    0.000 /Users/RDIB/Documents/GitHub/energy-grid-balancing-game/env/lib/python3.11/site-packages/numpy/core/fromnumeric.py:53(_wrapfunc)\n",
      "   137610    0.564    0.000  210.282    0.002 /Users/RDIB/Documents/GitHub/energy-grid-balancing-game/env/lib/python3.11/site-packages/pandas/core/internals/construction.py:423(dict_to_mgr)\n",
      "   632934  110.322    0.000  201.735    0.000 /Users/RDIB/Documents/GitHub/energy-grid-balancing-game/env/lib/python3.11/site-packages/numpy/lib/function_base.py:1324(diff)\n",
      "   137610    0.952    0.000  200.494    0.001 /Users/RDIB/Documents/GitHub/energy-grid-balancing-game/env/lib/python3.11/site-packages/pandas/core/internals/construction.py:96(arrays_to_mgr)\n",
      "       24    0.000    0.000  196.645    8.194 /Users/RDIB/Documents/GitHub/energy-grid-balancing-game/env/lib/python3.11/site-packages/scipy/optimize/_cobyla_py.py:32(wrapper)\n",
      "       24    0.018    0.001  196.645    8.194 /Users/RDIB/Documents/GitHub/energy-grid-balancing-game/env/lib/python3.11/site-packages/scipy/optimize/_cobyla_py.py:189(_minimize_cobyla)\n",
      "     3295    0.021    0.000  196.330    0.060 /Users/RDIB/Documents/GitHub/energy-grid-balancing-game/env/lib/python3.11/site-packages/scipy/optimize/_cobyla_py.py:280(calcfc)\n",
      "   220144   41.715    0.000  187.220    0.001 /Users/RDIB/Documents/GitHub/energy-grid-balancing-game/src/generators.py:91(<dictcomp>)\n",
      "   275180    1.183    0.000  181.171    0.001 /Users/RDIB/Documents/GitHub/energy-grid-balancing-game/env/lib/python3.11/site-packages/pandas/core/frame.py:4062(__setitem__)\n",
      "   275180    1.144    0.000  178.549    0.001 /Users/RDIB/Documents/GitHub/energy-grid-balancing-game/env/lib/python3.11/site-packages/pandas/core/frame.py:4290(_set_item)\n",
      "    55036   41.431    0.001  169.012    0.003 /Users/RDIB/Documents/GitHub/energy-grid-balancing-game/src/generators.py:321(calculate_dispatch)\n",
      "  3164946   70.301    0.000  164.191    0.000 {pandas._libs.lib.maybe_convert_objects}\n",
      "   275180    0.755    0.000  162.189    0.001 /Users/RDIB/Documents/GitHub/energy-grid-balancing-game/env/lib/python3.11/site-packages/pandas/core/frame.py:5015(_sanitize_column)\n",
      "  1293518    2.054    0.000  149.298    0.000 /Users/RDIB/Documents/GitHub/energy-grid-balancing-game/env/lib/python3.11/site-packages/pandas/core/dtypes/cast.py:1147(maybe_infer_to_datetimelike)\n",
      "   220144   42.923    0.000  141.502    0.001 /Users/RDIB/Documents/GitHub/energy-grid-balancing-game/src/generators.py:97(<dictcomp>)\n",
      "   137610    2.372    0.000  136.181    0.001 /Users/RDIB/Documents/GitHub/energy-grid-balancing-game/env/lib/python3.11/site-packages/pandas/core/internals/construction.py:596(_homogenize)\n",
      "   385312    7.601    0.000  135.378    0.000 /Users/RDIB/Documents/GitHub/energy-grid-balancing-game/env/lib/python3.11/site-packages/pandas/core/frame.py:11090(_reduce)\n",
      "\n",
      "\n"
     ]
    },
    {
     "data": {
      "text/plain": [
       "<pstats.Stats at 0x14fc25210>"
      ]
     },
     "execution_count": 4,
     "metadata": {},
     "output_type": "execute_result"
    }
   ],
   "source": [
    "# display profiler information on most time consuming functions/sub functions\n",
    "Stats(profile).sort_stats(SortKey.CUMULATIVE).print_stats(0.03)"
   ]
  },
  {
   "cell_type": "code",
   "execution_count": 5,
   "metadata": {},
   "outputs": [],
   "source": [
    "# for week in tqdm(WEEK_MAP[\"week\"]):\n",
    "#     assert week in opt_init_weekly"
   ]
  },
  {
   "cell_type": "code",
   "execution_count": 6,
   "metadata": {},
   "outputs": [],
   "source": [
    "# save file\n",
    "with open(os.path.join(os.getcwd(), \"weekly_optimum.json\"), \"w\") as f:\n",
    "    f.write(json.dumps(opt_init_weekly, indent=4))"
   ]
  },
  {
   "cell_type": "code",
   "execution_count": 7,
   "metadata": {},
   "outputs": [
    {
     "data": {
      "image/png": "[encoded data removed]",
      "text/plain": [
       "<Figure size 1200x1200 with 4 Axes>"
      ]
     },
     "metadata": {},
     "output_type": "display_data"
    }
   ],
   "source": [
    "# plot results\n",
    "df = pd.DataFrame(opt_init_weekly).T\n",
    "fig, ax_all = plt.subplots(nrows=2, ncols=2, figsize=(12, 12))\n",
    "for data, ax_row in zip(\n",
    "    [df.drop(columns=\"score\"), df[[\"score\"]]],\n",
    "    [[ax_all[0, 0], ax_all[0, 1]], [ax_all[1, 0], ax_all[1, 1]]],\n",
    "):\n",
    "    for ax in ax_row:\n",
    "        sns.boxplot(data=data, orient=\"h\", ax=ax)\n",
    "        ax.grid()\n",
    "ax_all[0, 0].set_xlim(left=0)\n",
    "ax_all[1, 0].set_xlim(left=0)\n",
    "ax_all[0, 1].set_xlim(left=0, right=3)\n",
    "ax_all[1, 1].set_xlim(left=0, right=100)\n",
    "fig.tight_layout()"
   ]
  }
 ],
 "metadata": {
  "kernelspec": {
   "display_name": "env",
   "language": "python",
   "name": "python3"
  },
  "language_info": {
   "codemirror_mode": {
    "name": "ipython",
    "version": 3
   },
   "file_extension": ".py",
   "mimetype": "text/x-python",
   "name": "python",
   "nbconvert_exporter": "python",
   "pygments_lexer": "ipython3",
   "version": "3.11.4"
  }
 },
 "nbformat": 4,
 "nbformat_minor": 2
}
