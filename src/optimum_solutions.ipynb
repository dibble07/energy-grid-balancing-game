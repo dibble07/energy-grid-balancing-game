{
 "cells": [
  {
   "cell_type": "markdown",
   "metadata": {},
   "source": [
    "# Optimisation solutions\n",
    "The optimum solution for each week differs. To improve converge quality and speed, the optimum for each week shall be calculated and stored"
   ]
  },
  {
   "cell_type": "code",
   "execution_count": null,
   "metadata": {},
   "outputs": [],
   "source": [
    "# imports\n",
    "import json\n",
    "import os\n",
    "\n",
    "from src.grid import Grid\n",
    "from src.generators import (\n",
    "    SolarGenerator,\n",
    "    WindGenerator,\n",
    "    NuclearGenerator,\n",
    "    CoalGenerator,\n",
    "    GasGenerator,\n",
    ")\n",
    "from src.utils import WEEK_MAP"
   ]
  },
  {
   "cell_type": "code",
   "execution_count": null,
   "metadata": {},
   "outputs": [],
   "source": [
    "# initialise dictionary of optimum initialisations\n",
    "opt_init_weekly = {}\n",
    "\n",
    "# loop over each week\n",
    "for week in WEEK_MAP[\"week\"]:\n",
    "    # initialise grid for current week\n",
    "    grid = Grid(\n",
    "        generators={\n",
    "            \"solar\": SolarGenerator,\n",
    "            \"wind\": WindGenerator,\n",
    "            \"nuclear\": NuclearGenerator,\n",
    "            \"gas\": GasGenerator,\n",
    "            \"coal\": CoalGenerator,\n",
    "        },\n",
    "        week=week,\n",
    "    )\n",
    "\n",
    "    # save successul optimisations and print unsuccessful ones\n",
    "    if grid.optimum is not None:\n",
    "        opt_init_weekly[int(week)] = {\n",
    "            k: v / grid.demand.mean()\n",
    "            for k, v in grid.optimum[\"installed_capacity\"].items()\n",
    "        }\n",
    "    else:\n",
    "        print(grid.optimum)"
   ]
  },
  {
   "cell_type": "code",
   "execution_count": null,
   "metadata": {},
   "outputs": [],
   "source": [
    "# save file\n",
    "with open(os.path.join(os.getcwd(), \"weekly_optimum.json\"), \"w\") as f:\n",
    "    f.write(json.dumps(opt_init_weekly))"
   ]
  }
 ],
 "metadata": {
  "kernelspec": {
   "display_name": "env",
   "language": "python",
   "name": "python3"
  },
  "language_info": {
   "codemirror_mode": {
    "name": "ipython",
    "version": 3
   },
   "file_extension": ".py",
   "mimetype": "text/x-python",
   "name": "python",
   "nbconvert_exporter": "python",
   "pygments_lexer": "ipython3",
   "version": "3.11.4"
  }
 },
 "nbformat": 4,
 "nbformat_minor": 2
}
