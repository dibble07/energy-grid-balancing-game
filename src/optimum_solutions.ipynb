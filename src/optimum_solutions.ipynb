{
 "cells": [
  {
   "cell_type": "markdown",
   "metadata": {},
   "source": [
    "# Optimisation solutions\n",
    "The optimum solution for each week differs. To improve converge quality and speed, the optimum for each week shall be calculated and stored"
   ]
  },
  {
   "cell_type": "code",
   "execution_count": null,
   "metadata": {},
   "outputs": [],
   "source": [
    "# imports\n",
    "import json\n",
    "import os\n",
    "\n",
    "import matplotlib.pyplot as plt\n",
    "import pandas as pd\n",
    "import seaborn as sns\n",
    "from pqdm.processes import pqdm\n",
    "\n",
    "from src.opt_utils import worker\n",
    "from src.utils import WEEK_MAP"
   ]
  },
  {
   "cell_type": "code",
   "execution_count": null,
   "metadata": {},
   "outputs": [],
   "source": [
    "# calculate output as dictionary\n",
    "weeks = WEEK_MAP[\"week\"].values\n",
    "opt_init_weekly = {\n",
    "    int(k): v\n",
    "    for k, v in zip(\n",
    "        weeks, pqdm(weeks, worker, n_jobs=int(3 / 4 * os.cpu_count()), leave=False)\n",
    "    )\n",
    "}"
   ]
  },
  {
   "cell_type": "code",
   "execution_count": null,
   "metadata": {},
   "outputs": [],
   "source": [
    "# save file\n",
    "with open(os.path.join(os.getcwd(), \"weekly_optimum.json\"), \"w\") as f:\n",
    "    f.write(json.dumps(opt_init_weekly, indent=4))"
   ]
  },
  {
   "cell_type": "code",
   "execution_count": null,
   "metadata": {},
   "outputs": [],
   "source": [
    "# plot results\n",
    "df = pd.DataFrame(opt_init_weekly).T\n",
    "fig, ax_all = plt.subplots(ncols=2, figsize=(12, 12))\n",
    "for data, ax in zip([df.drop(columns=\"score\"), df[[\"score\"]]], ax_all):\n",
    "    sns.boxplot(data=data, orient=\"h\", ax=ax)\n",
    "    ax.grid()\n",
    "ax_all[0].set_xlim(left=0)\n",
    "ax_all[1].set_xlim(left=0)\n",
    "fig.tight_layout()"
   ]
  }
 ],
 "metadata": {
  "kernelspec": {
   "display_name": "env",
   "language": "python",
   "name": "python3"
  },
  "language_info": {
   "codemirror_mode": {
    "name": "ipython",
    "version": 3
   },
   "file_extension": ".py",
   "mimetype": "text/x-python",
   "name": "python",
   "nbconvert_exporter": "python",
   "pygments_lexer": "ipython3",
   "version": "3.11.4"
  }
 },
 "nbformat": 4,
 "nbformat_minor": 2
}
