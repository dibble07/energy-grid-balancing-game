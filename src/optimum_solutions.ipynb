{
 "cells": [
  {
   "cell_type": "markdown",
   "metadata": {},
   "source": [
    "# Optimisation solutions\n",
    "The optimum solution for each week differs. To improve converge quality and speed, the optimum for each week shall be calculated and stored"
   ]
  },
  {
   "cell_type": "code",
   "execution_count": null,
   "metadata": {},
   "outputs": [],
   "source": [
    "# imports\n",
    "import json\n",
    "import os\n",
    "import time\n",
    "import warnings\n",
    "from cProfile import Profile\n",
    "from pstats import SortKey, Stats\n",
    "\n",
    "import matplotlib.pyplot as plt\n",
    "import pandas as pd\n",
    "import seaborn as sns\n",
    "from tqdm.notebook import tqdm\n",
    "\n",
    "from src.grid import Grid\n",
    "from src.generators import (\n",
    "    SolarGenerator,\n",
    "    WindGenerator,\n",
    "    NuclearGenerator,\n",
    "    CoalGenerator,\n",
    "    GasGenerator,\n",
    "    BatteryGenerator,\n",
    ")\n",
    "from src.utils import WEEK_MAP"
   ]
  },
  {
   "cell_type": "code",
   "execution_count": null,
   "metadata": {},
   "outputs": [],
   "source": [
    "profile = Profile()\n",
    "profile.enable()\n",
    "\n",
    "# initialise dictionary of optimum initialisations\n",
    "opt_init_weekly = {}\n",
    "\n",
    "# loop over each week\n",
    "for week in tqdm(WEEK_MAP[\"week\"]):\n",
    "    print(week)\n",
    "    # initialise grid for current week\n",
    "    grid = Grid(\n",
    "        generators={\n",
    "            \"solar\": SolarGenerator,\n",
    "            \"wind\": WindGenerator,\n",
    "            \"nuclear\": NuclearGenerator,\n",
    "            \"battery\": BatteryGenerator,\n",
    "            \"gas\": GasGenerator,\n",
    "            \"coal\": CoalGenerator,\n",
    "        },\n",
    "        week=week,\n",
    "    )\n",
    "\n",
    "    # save successul optimisations and print unsuccessful ones\n",
    "    if grid.optimum is not None:\n",
    "        opt_init_weekly[int(week)] = {\n",
    "            **{\n",
    "                k: v / grid.demand.max()\n",
    "                for k, v in grid.optimum[\"installed_capacity\"].items()\n",
    "            },\n",
    "            **{\"score\": grid.optimum[\"score\"]},\n",
    "        }\n",
    "    else:\n",
    "        warnings.warn(f\"No optimum found\")\n",
    "\n",
    "profile.disable()"
   ]
  },
  {
   "cell_type": "code",
   "execution_count": null,
   "metadata": {},
   "outputs": [],
   "source": [
    "# display profiler information on most time consuming functions\n",
    "Stats(profile).sort_stats(SortKey.TIME).print_stats(0.03)"
   ]
  },
  {
   "cell_type": "code",
   "execution_count": null,
   "metadata": {},
   "outputs": [],
   "source": [
    "# display profiler information on most time consuming functions/sub functions\n",
    "Stats(profile).sort_stats(SortKey.CUMULATIVE).print_stats(0.03)"
   ]
  },
  {
   "cell_type": "code",
   "execution_count": null,
   "metadata": {},
   "outputs": [],
   "source": [
    "for week in tqdm(WEEK_MAP[\"week\"]):\n",
    "    assert week in opt_init_weekly"
   ]
  },
  {
   "cell_type": "code",
   "execution_count": null,
   "metadata": {},
   "outputs": [],
   "source": [
    "# save file\n",
    "with open(os.path.join(os.getcwd(), \"weekly_optimum.json\"), \"w\") as f:\n",
    "    f.write(json.dumps(opt_init_weekly))"
   ]
  },
  {
   "cell_type": "code",
   "execution_count": null,
   "metadata": {},
   "outputs": [],
   "source": [
    "# plot results\n",
    "df = pd.DataFrame(opt_init_weekly).T\n",
    "fig, ax_all = plt.subplots(nrows=2, ncols=2, figsize=(12, 12))\n",
    "for data, ax_row in zip(\n",
    "    [df.drop(columns=\"score\"), df[[\"score\"]]],\n",
    "    [[ax_all[0, 0], ax_all[0, 1]], [ax_all[1, 0], ax_all[1, 1]]],\n",
    "):\n",
    "    for ax in ax_row:\n",
    "        sns.boxplot(data=data, orient=\"h\", ax=ax)\n",
    "        ax.grid()\n",
    "ax_all[0, 0].set_xlim(left=0)\n",
    "ax_all[1, 0].set_xlim(left=0)\n",
    "ax_all[0, 1].set_xlim(left=0, right=3)\n",
    "ax_all[1, 1].set_xlim(left=0, right=100)\n",
    "fig.tight_layout()"
   ]
  }
 ],
 "metadata": {
  "kernelspec": {
   "display_name": "env",
   "language": "python",
   "name": "python3"
  },
  "language_info": {
   "codemirror_mode": {
    "name": "ipython",
    "version": 3
   },
   "file_extension": ".py",
   "mimetype": "text/x-python",
   "name": "python",
   "nbconvert_exporter": "python",
   "pygments_lexer": "ipython3",
   "version": "3.11.4"
  }
 },
 "nbformat": 4,
 "nbformat_minor": 2
}
