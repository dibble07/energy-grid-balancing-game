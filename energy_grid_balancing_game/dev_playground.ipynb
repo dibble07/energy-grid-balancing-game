{
 "cells": [
  {
   "cell_type": "code",
   "execution_count": null,
   "metadata": {},
   "outputs": [],
   "source": [
    "import numpy as np\n",
    "import pandas as pd\n",
    "\n",
    "from generators import (\n",
    "    SolarGenerator,\n",
    "    WindGenerator,\n",
    "    NuclearGenerator,\n",
    "    CoalGenerator,\n",
    "    GasGenerator,\n",
    ")\n",
    "from utils import get_demand_curve"
   ]
  },
  {
   "cell_type": "code",
   "execution_count": null,
   "metadata": {},
   "outputs": [],
   "source": [
    "get_demand_curve(week_no=7, population=1).plot()"
   ]
  },
  {
   "cell_type": "code",
   "execution_count": null,
   "metadata": {},
   "outputs": [],
   "source": [
    "t = np.arange(0, 7 * 24 + 1, 1)"
   ]
  },
  {
   "cell_type": "code",
   "execution_count": null,
   "metadata": {},
   "outputs": [],
   "source": [
    "gen = SolarGenerator(time_steps=t, installed_capacity=1000, week=6)\n",
    "df = pd.concat(\n",
    "    [\n",
    "        pd.Series(gen.min_power).rename(\"min\"),\n",
    "        pd.Series(gen.max_power).rename(\"max\"),\n",
    "    ],\n",
    "    axis=1,\n",
    ")\n",
    "df.plot()\n",
    "gen.calculate_costs(df.mean(axis=1))"
   ]
  },
  {
   "cell_type": "code",
   "execution_count": null,
   "metadata": {},
   "outputs": [],
   "source": [
    "gen = WindGenerator(time_steps=t, installed_capacity=1000, week=6)\n",
    "df = pd.concat(\n",
    "    [\n",
    "        pd.Series(gen.min_power).rename(\"min\"),\n",
    "        pd.Series(gen.max_power).rename(\"max\"),\n",
    "    ],\n",
    "    axis=1,\n",
    ")\n",
    "df.plot()\n",
    "gen.calculate_costs(df.mean(axis=1))"
   ]
  },
  {
   "cell_type": "code",
   "execution_count": null,
   "metadata": {},
   "outputs": [],
   "source": [
    "gen = NuclearGenerator(time_steps=t, installed_capacity=1000)\n",
    "df = pd.concat(\n",
    "    [\n",
    "        pd.Series(gen.min_power).rename(\"min\"),\n",
    "        pd.Series(gen.max_power).rename(\"max\"),\n",
    "    ],\n",
    "    axis=1,\n",
    ")\n",
    "df.plot()\n",
    "gen.calculate_costs(df.mean(axis=1))"
   ]
  },
  {
   "cell_type": "code",
   "execution_count": null,
   "metadata": {},
   "outputs": [],
   "source": [
    "gen = CoalGenerator(time_steps=t, installed_capacity=1000)\n",
    "df = pd.concat(\n",
    "    [\n",
    "        pd.Series(gen.min_power).rename(\"min\"),\n",
    "        pd.Series(gen.max_power).rename(\"max\"),\n",
    "    ],\n",
    "    axis=1,\n",
    ")\n",
    "df.plot()\n",
    "gen.calculate_costs(df.mean(axis=1))"
   ]
  },
  {
   "cell_type": "code",
   "execution_count": null,
   "metadata": {},
   "outputs": [],
   "source": [
    "gen = GasGenerator(time_steps=t, installed_capacity=1000)\n",
    "df = pd.concat(\n",
    "    [\n",
    "        pd.Series(gen.min_power).rename(\"min\"),\n",
    "        pd.Series(gen.max_power).rename(\"max\"),\n",
    "    ],\n",
    "    axis=1,\n",
    ")\n",
    "df.plot()\n",
    "gen.calculate_costs(df.mean(axis=1))"
   ]
  }
 ],
 "metadata": {
  "kernelspec": {
   "display_name": "env",
   "language": "python",
   "name": "python3"
  },
  "language_info": {
   "codemirror_mode": {
    "name": "ipython",
    "version": 3
   },
   "file_extension": ".py",
   "mimetype": "text/x-python",
   "name": "python",
   "nbconvert_exporter": "python",
   "pygments_lexer": "ipython3",
   "version": "3.11.4"
  }
 },
 "nbformat": 4,
 "nbformat_minor": 2
}
