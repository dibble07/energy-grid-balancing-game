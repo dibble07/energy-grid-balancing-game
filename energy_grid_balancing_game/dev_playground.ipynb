{
 "cells": [
  {
   "cell_type": "code",
   "execution_count": null,
   "metadata": {},
   "outputs": [],
   "source": [
    "import numpy as np\n",
    "import pandas as pd\n",
    "\n",
    "from gameplay import EnergyMixer\n",
    "from generators import (\n",
    "    SolarGenerator,\n",
    "    WindGenerator,\n",
    "    NuclearGenerator,\n",
    "    CoalGenerator,\n",
    "    GasGenerator,\n",
    ")\n",
    "from utils import get_demand_curve"
   ]
  },
  {
   "cell_type": "code",
   "execution_count": null,
   "metadata": {},
   "outputs": [],
   "source": [
    "week = 8"
   ]
  },
  {
   "cell_type": "markdown",
   "metadata": {},
   "source": [
    "## gameplay"
   ]
  },
  {
   "cell_type": "code",
   "execution_count": null,
   "metadata": {},
   "outputs": [],
   "source": [
    "grid = EnergyMixer(\n",
    "    generators={\n",
    "        \"solar\": SolarGenerator,\n",
    "        \"wind\": WindGenerator,\n",
    "        \"nuclear\": NuclearGenerator,\n",
    "        \"gas\": GasGenerator,\n",
    "        \"coal\": CoalGenerator,\n",
    "    },\n",
    "    week=week,\n",
    ")\n",
    "\n",
    "grid.set_installed_capacity(\n",
    "    installed_capacity={\n",
    "        \"solar\": 5_000e6,\n",
    "        \"wind\": 25_000e6,\n",
    "        \"nuclear\": 25_000e6,\n",
    "        \"gas\": 30_000e6,\n",
    "        \"coal\": 10_000e6,\n",
    "    },\n",
    ")\n",
    "\n",
    "dispatch, _, energy, co2, cost = grid.calculate_dispatch()\n",
    "pd.DataFrame(dispatch).plot()"
   ]
  },
  {
   "cell_type": "markdown",
   "metadata": {},
   "source": [
    "## demand"
   ]
  },
  {
   "cell_type": "code",
   "execution_count": null,
   "metadata": {},
   "outputs": [],
   "source": [
    "demand = get_demand_curve(week=week, population=1)\n",
    "pd.Series(demand).plot()"
   ]
  },
  {
   "cell_type": "code",
   "execution_count": null,
   "metadata": {},
   "outputs": [],
   "source": [
    "t = list(demand.keys())"
   ]
  },
  {
   "cell_type": "markdown",
   "metadata": {},
   "source": [
    "## generation"
   ]
  },
  {
   "cell_type": "code",
   "execution_count": null,
   "metadata": {},
   "outputs": [],
   "source": [
    "gen = SolarGenerator(time_steps=t, week=week)\n",
    "gen.installed_capacity = 1000\n",
    "dispatch_power, spare_power, energy, co2, cost = gen.calculate_dispatch(\n",
    "    {k: gen.installed_capacity * 2 for k in gen.min_power.keys()}\n",
    ")\n",
    "df = pd.concat(\n",
    "    [\n",
    "        pd.Series(gen.min_power).rename(\"min\"),\n",
    "        pd.Series(gen.max_power).rename(\"max\"),\n",
    "        pd.Series(dispatch_power).rename(\"dispatch\"),\n",
    "        pd.Series(spare_power).rename(\"spare\"),\n",
    "    ],\n",
    "    axis=1,\n",
    ")\n",
    "df.plot()\n",
    "print(\n",
    "    f\"energy [MWh]: {energy/1e6/3600:,.2f},   co2 [kg]: {co2:,.3f},   cost [EUR]: {cost:,.3f}\"\n",
    ")"
   ]
  },
  {
   "cell_type": "code",
   "execution_count": null,
   "metadata": {},
   "outputs": [],
   "source": [
    "gen = WindGenerator(time_steps=t, week=week)\n",
    "gen.installed_capacity = 1000\n",
    "dispatch_power, spare_power, energy, co2, cost = gen.calculate_dispatch(\n",
    "    {k: gen.installed_capacity * 2 for k in gen.min_power.keys()}\n",
    ")\n",
    "df = pd.concat(\n",
    "    [\n",
    "        pd.Series(gen.min_power).rename(\"min\"),\n",
    "        pd.Series(gen.max_power).rename(\"max\"),\n",
    "        pd.Series(dispatch_power).rename(\"dispatch\"),\n",
    "        pd.Series(spare_power).rename(\"spare\"),\n",
    "    ],\n",
    "    axis=1,\n",
    ")\n",
    "df.plot()\n",
    "print(\n",
    "    f\"energy [MWh]: {energy/1e6/3600:,.2f},   co2 [kg]: {co2:,.3f},   cost [EUR]: {cost:,.3f}\"\n",
    ")"
   ]
  },
  {
   "cell_type": "code",
   "execution_count": null,
   "metadata": {},
   "outputs": [],
   "source": [
    "gen = NuclearGenerator(time_steps=t)\n",
    "gen.installed_capacity = 1000\n",
    "dispatch_power, spare_power, energy, co2, cost = gen.calculate_dispatch(\n",
    "    {k: gen.installed_capacity * 2 for k in gen.min_power.keys()}\n",
    ")\n",
    "df = pd.concat(\n",
    "    [\n",
    "        pd.Series(gen.min_power).rename(\"min\"),\n",
    "        pd.Series(gen.max_power).rename(\"max\"),\n",
    "        pd.Series(dispatch_power).rename(\"dispatch\"),\n",
    "        pd.Series(spare_power).rename(\"spare\"),\n",
    "    ],\n",
    "    axis=1,\n",
    ")\n",
    "df.plot()\n",
    "print(\n",
    "    f\"energy [MWh]: {energy/1e6/3600:,.2f},   co2 [kg]: {co2:,.3f},   cost [EUR]: {cost:,.3f}\"\n",
    ")"
   ]
  },
  {
   "cell_type": "code",
   "execution_count": null,
   "metadata": {},
   "outputs": [],
   "source": [
    "gen = CoalGenerator(time_steps=t)\n",
    "gen.installed_capacity = 1000\n",
    "dispatch_power, spare_power, energy, co2, cost = gen.calculate_dispatch(\n",
    "    {k: gen.installed_capacity * 2 for k in gen.min_power.keys()}\n",
    ")\n",
    "df = pd.concat(\n",
    "    [\n",
    "        pd.Series(gen.min_power).rename(\"min\"),\n",
    "        pd.Series(gen.max_power).rename(\"max\"),\n",
    "        pd.Series(dispatch_power).rename(\"dispatch\"),\n",
    "        pd.Series(spare_power).rename(\"spare\"),\n",
    "    ],\n",
    "    axis=1,\n",
    ")\n",
    "df.plot()\n",
    "print(\n",
    "    f\"energy [MWh]: {energy/1e6/3600:,.2f},   co2 [kg]: {co2:,.3f},   cost [EUR]: {cost:,.3f}\"\n",
    ")"
   ]
  },
  {
   "cell_type": "code",
   "execution_count": null,
   "metadata": {},
   "outputs": [],
   "source": [
    "gen = GasGenerator(time_steps=t)\n",
    "gen.installed_capacity = 1000\n",
    "dispatch_power, spare_power, energy, co2, cost = gen.calculate_dispatch(\n",
    "    {k: gen.installed_capacity * 0.8 for k in gen.min_power.keys()}\n",
    ")\n",
    "df = pd.concat(\n",
    "    [\n",
    "        pd.Series(gen.min_power).rename(\"min\"),\n",
    "        pd.Series(gen.max_power).rename(\"max\"),\n",
    "        pd.Series(dispatch_power).rename(\"dispatch\"),\n",
    "        pd.Series(spare_power).rename(\"spare\"),\n",
    "    ],\n",
    "    axis=1,\n",
    ")\n",
    "df.plot()\n",
    "print(\n",
    "    f\"energy [MWh]: {energy/1e6/3600:,.2f},   co2 [kg]: {co2:,.3f},   cost [EUR]: {cost:,.3f}\"\n",
    ")"
   ]
  }
 ],
 "metadata": {
  "kernelspec": {
   "display_name": "env",
   "language": "python",
   "name": "python3"
  },
  "language_info": {
   "codemirror_mode": {
    "name": "ipython",
    "version": 3
   },
   "file_extension": ".py",
   "mimetype": "text/x-python",
   "name": "python",
   "nbconvert_exporter": "python",
   "pygments_lexer": "ipython3",
   "version": "3.11.4"
  }
 },
 "nbformat": 4,
 "nbformat_minor": 2
}
