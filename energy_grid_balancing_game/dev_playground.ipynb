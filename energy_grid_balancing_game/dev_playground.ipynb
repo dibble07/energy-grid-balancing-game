{
 "cells": [
  {
   "cell_type": "code",
   "execution_count": null,
   "metadata": {},
   "outputs": [],
   "source": [
    "import numpy as np\n",
    "import pandas as pd\n",
    "\n",
    "from generators import (\n",
    "    SolarGenerator,\n",
    "    WindGenerator,\n",
    "    NuclearGenerator,\n",
    "    CoalGenerator,\n",
    "    GasGenerator,\n",
    ")\n",
    "from utils import get_demand_curve"
   ]
  },
  {
   "cell_type": "code",
   "execution_count": null,
   "metadata": {},
   "outputs": [],
   "source": [
    "week = 8"
   ]
  },
  {
   "cell_type": "markdown",
   "metadata": {},
   "source": [
    "## gameplay"
   ]
  },
  {
   "cell_type": "code",
   "execution_count": null,
   "metadata": {},
   "outputs": [],
   "source": [
    "import inspect\n",
    "from generators import DataGenerator\n",
    "from utils import get_demand_curve\n",
    "from icecream import ic\n",
    "from matplotlib import pyplot as plt\n",
    "\n",
    "\n",
    "class EnergyMixer:\n",
    "    def __init__(self, generators, week) -> None:\n",
    "        \"\"\"\n",
    "        Initialise energy mixer\n",
    "            Parameters:\n",
    "                generators (dict): Generator classes in energy mix ,\n",
    "                week(int): week of year in consideration,\n",
    "        \"\"\"\n",
    "        # get demand curve\n",
    "        self.demand = get_demand_curve(week=week)\n",
    "\n",
    "        # initialise generators\n",
    "        self.generators = {\n",
    "            k: g(time_steps=list(self.demand.keys()), week=week)\n",
    "            if DataGenerator in inspect.getmro(g)\n",
    "            else g(time_steps=list(self.demand.keys()))\n",
    "            for k, g in generators.items()\n",
    "        }\n",
    "\n",
    "    def set_installed_capacity(self, installed_capacity) -> None:\n",
    "        \"\"\"\n",
    "        Set installed capacity for each generator\n",
    "            Parameters:\n",
    "                installed_capacity (dict): generator name and installed capacity,\n",
    "        \"\"\"\n",
    "        for k, v in installed_capacity.items():\n",
    "            self.generators[k].installed_capacity = v\n",
    "\n",
    "    @property\n",
    "    def min_power_profiles(self) -> dict:\n",
    "        return {k: g.min_power for k, g in self.generators.items()}\n",
    "\n",
    "    def calculate_dispatch(self):\n",
    "        \"calculate dispatch and spare capacity of each generator\"\n",
    "\n",
    "        # initially dispatch levels at minimum for each generator\n",
    "        dispatch_all = grid.min_power_profiles.copy()\n",
    "        spare_all = {}\n",
    "\n",
    "        # loop over generation sources in order of preference\n",
    "        for col in [\"nuclear\", \"gas\", \"coal\", \"solar\", \"wind\"]:\n",
    "            # calculate shortfall between current dispatch and demand\n",
    "            shortfall = (\n",
    "                pd.Series(self.demand) - pd.DataFrame(dispatch_all).sum(axis=1)\n",
    "            ).clip(lower=0)\n",
    "\n",
    "            # request generator provides its minimum plus the shortfall\n",
    "            request = (shortfall + pd.Series(self.generators[col].min_power)).to_dict()\n",
    "            dispatch_all[col], spare_all[col] = self.generators[col].calculate_dispatch(\n",
    "                request\n",
    "            )\n",
    "\n",
    "        return dispatch_all, spare_all\n",
    "\n",
    "\n",
    "grid = EnergyMixer(\n",
    "    generators={\n",
    "        \"solar\": SolarGenerator,\n",
    "        \"wind\": WindGenerator,\n",
    "        \"nuclear\": NuclearGenerator,\n",
    "        \"gas\": GasGenerator,\n",
    "        \"coal\": CoalGenerator,\n",
    "    },\n",
    "    week=6,\n",
    ")\n",
    "\n",
    "grid.set_installed_capacity(\n",
    "    installed_capacity={\n",
    "        \"solar\": 5_000e6,\n",
    "        \"wind\": 20_000e6,\n",
    "        \"nuclear\": 30_000e6,\n",
    "        \"gas\": 30_000e6,\n",
    "        \"coal\": 10_000e6,\n",
    "    },\n",
    ")\n",
    "\n",
    "grid.calculate_dispatch()"
   ]
  },
  {
   "cell_type": "markdown",
   "metadata": {},
   "source": [
    "## demand"
   ]
  },
  {
   "cell_type": "code",
   "execution_count": null,
   "metadata": {},
   "outputs": [],
   "source": [
    "demand = get_demand_curve(week=week, population=1)\n",
    "pd.Series(demand).plot()"
   ]
  },
  {
   "cell_type": "code",
   "execution_count": null,
   "metadata": {},
   "outputs": [],
   "source": [
    "t = list(demand.keys())"
   ]
  },
  {
   "cell_type": "markdown",
   "metadata": {},
   "source": [
    "## generation"
   ]
  },
  {
   "cell_type": "code",
   "execution_count": null,
   "metadata": {},
   "outputs": [],
   "source": [
    "gen = SolarGenerator(time_steps=t, week=week)\n",
    "gen.installed_capacity = 1000\n",
    "dispatch_power, spare_power = gen.calculate_dispatch(\n",
    "    {k: gen.installed_capacity * 2 for k in gen.min_power.keys()}\n",
    ")\n",
    "df = pd.concat(\n",
    "    [\n",
    "        pd.Series(gen.min_power).rename(\"min\"),\n",
    "        pd.Series(gen.max_power).rename(\"max\"),\n",
    "        pd.Series(dispatch_power).rename(\"dispatch\"),\n",
    "        pd.Series(spare_power).rename(\"spare\"),\n",
    "    ],\n",
    "    axis=1,\n",
    ")\n",
    "df.plot()\n",
    "gen.calculate_costs(df.mean(axis=1))"
   ]
  },
  {
   "cell_type": "code",
   "execution_count": null,
   "metadata": {},
   "outputs": [],
   "source": [
    "gen = WindGenerator(time_steps=t, week=week)\n",
    "gen.installed_capacity = 1000\n",
    "dispatch_power, spare_power = gen.calculate_dispatch(\n",
    "    {k: gen.installed_capacity * 2 for k in gen.min_power.keys()}\n",
    ")\n",
    "df = pd.concat(\n",
    "    [\n",
    "        pd.Series(gen.min_power).rename(\"min\"),\n",
    "        pd.Series(gen.max_power).rename(\"max\"),\n",
    "        pd.Series(dispatch_power).rename(\"dispatch\"),\n",
    "        pd.Series(spare_power).rename(\"spare\"),\n",
    "    ],\n",
    "    axis=1,\n",
    ")\n",
    "df.plot()\n",
    "gen.calculate_costs(df.mean(axis=1))"
   ]
  },
  {
   "cell_type": "code",
   "execution_count": null,
   "metadata": {},
   "outputs": [],
   "source": [
    "gen = NuclearGenerator(time_steps=t)\n",
    "gen.installed_capacity = 1000\n",
    "dispatch_power, spare_power = gen.calculate_dispatch(\n",
    "    {k: gen.installed_capacity * 2 for k in gen.min_power.keys()}\n",
    ")\n",
    "df = pd.concat(\n",
    "    [\n",
    "        pd.Series(gen.min_power).rename(\"min\"),\n",
    "        pd.Series(gen.max_power).rename(\"max\"),\n",
    "        pd.Series(dispatch_power).rename(\"dispatch\"),\n",
    "        pd.Series(spare_power).rename(\"spare\"),\n",
    "    ],\n",
    "    axis=1,\n",
    ")\n",
    "df.plot()\n",
    "gen.calculate_costs(df.mean(axis=1))"
   ]
  },
  {
   "cell_type": "code",
   "execution_count": null,
   "metadata": {},
   "outputs": [],
   "source": [
    "gen = CoalGenerator(time_steps=t)\n",
    "gen.installed_capacity = 1000\n",
    "dispatch_power, spare_power = gen.calculate_dispatch(\n",
    "    {k: gen.installed_capacity * 2 for k in gen.min_power.keys()}\n",
    ")\n",
    "df = pd.concat(\n",
    "    [\n",
    "        pd.Series(gen.min_power).rename(\"min\"),\n",
    "        pd.Series(gen.max_power).rename(\"max\"),\n",
    "        pd.Series(dispatch_power).rename(\"dispatch\"),\n",
    "        pd.Series(spare_power).rename(\"spare\"),\n",
    "    ],\n",
    "    axis=1,\n",
    ")\n",
    "df.plot()\n",
    "gen.calculate_costs(df.mean(axis=1))"
   ]
  },
  {
   "cell_type": "code",
   "execution_count": null,
   "metadata": {},
   "outputs": [],
   "source": [
    "gen = GasGenerator(time_steps=t)\n",
    "gen.installed_capacity = 1000\n",
    "dispatch_power, spare_power = gen.calculate_dispatch(\n",
    "    {k: gen.installed_capacity * 2 for k in gen.min_power.keys()}\n",
    ")\n",
    "df = pd.concat(\n",
    "    [\n",
    "        pd.Series(gen.min_power).rename(\"min\"),\n",
    "        pd.Series(gen.max_power).rename(\"max\"),\n",
    "        pd.Series(dispatch_power).rename(\"dispatch\"),\n",
    "        pd.Series(spare_power).rename(\"spare\"),\n",
    "    ],\n",
    "    axis=1,\n",
    ")\n",
    "df.plot()\n",
    "gen.calculate_costs(df.mean(axis=1))"
   ]
  }
 ],
 "metadata": {
  "kernelspec": {
   "display_name": "env",
   "language": "python",
   "name": "python3"
  },
  "language_info": {
   "codemirror_mode": {
    "name": "ipython",
    "version": 3
   },
   "file_extension": ".py",
   "mimetype": "text/x-python",
   "name": "python",
   "nbconvert_exporter": "python",
   "pygments_lexer": "ipython3",
   "version": "3.11.4"
  }
 },
 "nbformat": 4,
 "nbformat_minor": 2
}
